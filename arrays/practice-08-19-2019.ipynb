{
 "cells": [
  {
   "cell_type": "markdown",
   "metadata": {},
   "source": [
    "Link: https://www.geeksforgeeks.org/must-do-coding-questions-for-companies-like-amazon-microsoft-adobe/"
   ]
  },
  {
   "cell_type": "markdown",
   "metadata": {},
   "source": [
    "* Programs discussed:\n",
    "    \n",
    "    - Find contiguous sub array with given sum\n",
    "    - Find triplets with sum of two equal to 3rd in given array\n",
    "    - Find missing number in an array\n",
    "    - Merge two sorted arrays"
   ]
  },
  {
   "cell_type": "markdown",
   "metadata": {},
   "source": [
    "## Find contiguous sub array with given sum"
   ]
  },
  {
   "cell_type": "code",
   "execution_count": 14,
   "metadata": {},
   "outputs": [],
   "source": [
    "def find_cont(arr, sum1):\n",
    "    n = len(arr)\n",
    "    start = 0\n",
    "    i = 1\n",
    "    curr_sum = arr[0]\n",
    "    while(i <= n):\n",
    "        \n",
    "        while(curr_sum > sum1 and start < i-1):\n",
    "            curr_sum = curr_sum - arr[start]\n",
    "            start += 1\n",
    "            \n",
    "        if(curr_sum == sum1):\n",
    "            print('sum found between: ', start, ' and ', i-1)\n",
    "            return\n",
    "        \n",
    "        if(i < n):\n",
    "            curr_sum = curr_sum + arr[i]\n",
    "        i += 1\n",
    "        \n",
    "    print('sum not found')\n",
    "    return"
   ]
  },
  {
   "cell_type": "code",
   "execution_count": 15,
   "metadata": {},
   "outputs": [
    {
     "name": "stdout",
     "output_type": "stream",
     "text": [
      "sum found between:  1  and  4\n"
     ]
    }
   ],
   "source": [
    "arr = [15, 2, 4, 8, 9, 5, 10, 23]\n",
    "sum1 = 23\n",
    "find_cont(arr,sum1) "
   ]
  },
  {
   "cell_type": "markdown",
   "metadata": {},
   "source": [
    "### Find triplets with sum of two equal to 3rd in given array\n",
    "https://www.geeksforgeeks.org/find-triplet-sum-two-equals-third-element/"
   ]
  },
  {
   "cell_type": "code",
   "execution_count": 26,
   "metadata": {},
   "outputs": [],
   "source": [
    "def find_triplets(array):\n",
    "    n = len(array) - 1\n",
    "    array.sort()\n",
    "    \n",
    "    while(n >= 0):\n",
    "        i = 0\n",
    "        j = n - 1\n",
    "        \n",
    "        while(i < j):\n",
    "            if(array[i] + array[j] == array[n]):\n",
    "                print(\"triplets found:\\t\", array[i], array[j], array[n])\n",
    "                return\n",
    "            \n",
    "            elif(array[i] + array[j] < array[n]):\n",
    "                i += 1\n",
    "        \n",
    "            else:\n",
    "                j = j - 1\n",
    "            \n",
    "        n = n -1\n",
    "        \n",
    "    print('No triplets found')\n",
    "            "
   ]
  },
  {
   "cell_type": "code",
   "execution_count": 27,
   "metadata": {},
   "outputs": [
    {
     "name": "stdout",
     "output_type": "stream",
     "text": [
      "triplets found:\t 2 19 21\n"
     ]
    }
   ],
   "source": [
    "find_triplets([ 5, 32, 1, 7, 10, 50, 19, 21, 2])"
   ]
  },
  {
   "cell_type": "markdown",
   "metadata": {},
   "source": [
    "## Find missing number in an array"
   ]
  },
  {
   "cell_type": "code",
   "execution_count": 28,
   "metadata": {},
   "outputs": [],
   "source": [
    "def find_missing(arr1):\n",
    "    n = len(arr1)\n",
    "    \n",
    "    # n(n+1)/2 - is the sum\n",
    "    sum1 = ((n+1)* (n+2))/2\n",
    "    \n",
    "    sum2 = sum(arr1)\n",
    "    \n",
    "    print('missing number\\t', sum1 - sum2)"
   ]
  },
  {
   "cell_type": "code",
   "execution_count": 29,
   "metadata": {},
   "outputs": [
    {
     "name": "stdout",
     "output_type": "stream",
     "text": [
      "missing number\t 3.0\n"
     ]
    }
   ],
   "source": [
    "A = [1, 2, 4, 5, 6]\n",
    "find_missing(A)"
   ]
  },
  {
   "cell_type": "markdown",
   "metadata": {},
   "source": [
    "## Merge two sorted arrays\n",
    "\n",
    "https://www.geeksforgeeks.org/merge-two-sorted-arrays/"
   ]
  },
  {
   "cell_type": "code",
   "execution_count": 36,
   "metadata": {},
   "outputs": [],
   "source": [
    "def merge_sorted(arr1, arr2):\n",
    "    arr3 = list()\n",
    "    n = len(arr1)\n",
    "    m = len(arr2)\n",
    "    i = j = 0\n",
    "    while(i < n and j < m):\n",
    "        if(arr1[i] < arr2[j]):\n",
    "            arr3.append(arr1[i])\n",
    "            i += 1\n",
    "        else:\n",
    "            arr3.append(arr2[j])\n",
    "            j += 1\n",
    "    \n",
    "    while(i < n):\n",
    "        arr3.append(arr1[i])\n",
    "        i += 1\n",
    "    \n",
    "    while(j < m):\n",
    "        arr3.append(arr2[j])\n",
    "        j += 1\n",
    "    return(arr3)"
   ]
  },
  {
   "cell_type": "code",
   "execution_count": 37,
   "metadata": {},
   "outputs": [
    {
     "data": {
      "text/plain": [
       "[1, 2, 3, 4, 5, 6, 7, 8]"
      ]
     },
     "execution_count": 37,
     "metadata": {},
     "output_type": "execute_result"
    }
   ],
   "source": [
    "arr1 = [1, 3, 5, 7] \n",
    "\n",
    "arr2 = [2, 4, 6, 8] \n",
    "\n",
    "merge_sorted(arr1, arr2)"
   ]
  }
 ],
 "metadata": {
  "kernelspec": {
   "display_name": "Python 3",
   "language": "python",
   "name": "python3"
  },
  "language_info": {
   "codemirror_mode": {
    "name": "ipython",
    "version": 3
   },
   "file_extension": ".py",
   "mimetype": "text/x-python",
   "name": "python",
   "nbconvert_exporter": "python",
   "pygments_lexer": "ipython3",
   "version": "3.6.8"
  }
 },
 "nbformat": 4,
 "nbformat_minor": 2
}
