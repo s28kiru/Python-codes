{
 "cells": [
  {
   "cell_type": "code",
   "execution_count": 10,
   "metadata": {},
   "outputs": [],
   "source": [
    "# Sort list of dictionaries using itemgetter\n",
    "lis = [{'name': 'Ana', 'age': 25, 'car': 'i10', 'married': False},\n",
    "      {'name': 'Preeti', 'age': 23, 'car': 'maruti', 'married': True},\n",
    "      {'name': 'Tinku', 'age': 22, 'car': 'alto', 'married': False},\n",
    "      {'name': 'Pranav', 'age': 32, 'car': 'bmw', 'married': True}]"
   ]
  },
  {
   "cell_type": "code",
   "execution_count": 9,
   "metadata": {},
   "outputs": [
    {
     "data": {
      "text/plain": [
       "[{'name': 'Tinku', 'age': 22, 'car': 'alto', 'married': False},\n",
       " {'name': 'Preeti', 'age': 23, 'car': 'maruti', 'married': True},\n",
       " {'name': 'Pranav', 'age': 32, 'car': 'bmw', 'married': True},\n",
       " {'name': 'Ana', 'age': 25, 'car': 'i10', 'married': False}]"
      ]
     },
     "execution_count": 9,
     "metadata": {},
     "output_type": "execute_result"
    }
   ],
   "source": [
    "from operator import itemgetter\n",
    "sorted(lis, key = itemgetter('name', 'age'), reverse = True)"
   ]
  },
  {
   "cell_type": "code",
   "execution_count": 12,
   "metadata": {},
   "outputs": [
    {
     "data": {
      "text/plain": [
       "[{'name': 'Ana', 'age': 25, 'car': 'i10', 'married': False},\n",
       " {'name': 'Pranav', 'age': 32, 'car': 'bmw', 'married': True},\n",
       " {'name': 'Preeti', 'age': 23, 'car': 'maruti', 'married': True},\n",
       " {'name': 'Tinku', 'age': 22, 'car': 'alto', 'married': False}]"
      ]
     },
     "execution_count": 12,
     "metadata": {},
     "output_type": "execute_result"
    }
   ],
   "source": [
    "lis.sort(key = lambda x: x['name'])\n",
    "lis"
   ]
  },
  {
   "cell_type": "code",
   "execution_count": 13,
   "metadata": {},
   "outputs": [],
   "source": [
    "st = [\"Amar\", \"Akbar\", \"Anthony\"]\n",
    "st.append('kiru')"
   ]
  },
  {
   "cell_type": "code",
   "execution_count": 14,
   "metadata": {},
   "outputs": [
    {
     "data": {
      "text/plain": [
       "'kiru'"
      ]
     },
     "execution_count": 14,
     "metadata": {},
     "output_type": "execute_result"
    }
   ],
   "source": [
    "st.pop()"
   ]
  },
  {
   "cell_type": "code",
   "execution_count": 23,
   "metadata": {},
   "outputs": [],
   "source": [
    "st = 'Today is saturday please practice python'\n",
    "st = st.split()"
   ]
  },
  {
   "cell_type": "code",
   "execution_count": 24,
   "metadata": {},
   "outputs": [
    {
     "data": {
      "text/plain": [
       "[['Today', 'is', 'saturday'], ['please', 'practice', 'python']]"
      ]
     },
     "execution_count": 24,
     "metadata": {},
     "output_type": "execute_result"
    }
   ],
   "source": [
    "#st = 'Today is saturday please practice python'\n",
    "N = 3\n",
    "def get_list(st, N):\n",
    "    for i in range(0, len(st), N):\n",
    "        yield(st[i:i+N])\n",
    "g = get_list(st,N)\n",
    "list(g)"
   ]
  },
  {
   "cell_type": "code",
   "execution_count": 42,
   "metadata": {},
   "outputs": [],
   "source": [
    "def find_large(li, n):\n",
    "    max_list = list()\n",
    "    \n",
    "    for i in range(0, n):\n",
    "        max_n = li[0]\n",
    "        for i in range(1, len(li)):\n",
    "            if(li[i] > max_n):\n",
    "                max_n = li[i]\n",
    "        max_list.append(max_n)\n",
    "        print(max_n)\n",
    "        li.remove(max_n)\n",
    "        print(li)\n",
    "    return(max_list)\n",
    "        "
   ]
  },
  {
   "cell_type": "code",
   "execution_count": 34,
   "metadata": {},
   "outputs": [
    {
     "data": {
      "text/plain": [
       "[99, 8, 6]"
      ]
     },
     "execution_count": 34,
     "metadata": {},
     "output_type": "execute_result"
    }
   ],
   "source": [
    "x = [1,2,6,8,3,99]\n",
    "x.sort(reverse = True)\n",
    "x[0:3]"
   ]
  },
  {
   "cell_type": "code",
   "execution_count": 43,
   "metadata": {},
   "outputs": [
    {
     "name": "stdout",
     "output_type": "stream",
     "text": [
      "99\n",
      "[1, 2, 6, 8, 3]\n",
      "8\n",
      "[1, 2, 6, 3]\n",
      "6\n",
      "[1, 2, 3]\n",
      "[99, 8, 6]\n"
     ]
    }
   ],
   "source": [
    "a = find_large([1,2,6,8,3,99], 3)\n",
    "print(a)"
   ]
  },
  {
   "cell_type": "code",
   "execution_count": 46,
   "metadata": {},
   "outputs": [
    {
     "data": {
      "text/plain": [
       "['abc', 'acb', 'bac', 'bca', 'cab', 'cba']"
      ]
     },
     "execution_count": 46,
     "metadata": {},
     "output_type": "execute_result"
    }
   ],
   "source": [
    "from itertools import permutations\n",
    "\n",
    "st = 'abc'\n",
    "\n",
    "perm_list = permutations(st)\n",
    "li = []\n",
    "for item in list(perm_list):\n",
    "    li.append(''.join(item))\n",
    "    \n",
    "li"
   ]
  },
  {
   "cell_type": "code",
   "execution_count": 48,
   "metadata": {},
   "outputs": [
    {
     "name": "stdout",
     "output_type": "stream",
     "text": [
      "33\n"
     ]
    }
   ],
   "source": [
    "list1 = [[1, 2, 3], [4, 5, 6], [10, 11, 12], [7, 8, 9]]\n",
    "\n",
    "max_sum = sum(list1[0])\n",
    "for item in list1:\n",
    "    if(max_sum < sum(item)):\n",
    "        max_sum = sum(item)\n",
    "print(max_sum)"
   ]
  },
  {
   "cell_type": "code",
   "execution_count": 50,
   "metadata": {},
   "outputs": [
    {
     "data": {
      "text/plain": [
       "[('ram', '15', '8'), ('laxman', 'sita'), ('krishna', 'akbar', '45'), ('', '')]"
      ]
     },
     "execution_count": 50,
     "metadata": {},
     "output_type": "execute_result"
    }
   ],
   "source": [
    "li = tuples = [(), ('ram','15','8'), (), ('laxman', 'sita'),  \n",
    "          ('krishna', 'akbar', '45'), ('',''),()] \n",
    "\n",
    "[t for t in li if t]"
   ]
  },
  {
   "cell_type": "code",
   "execution_count": 51,
   "metadata": {},
   "outputs": [
    {
     "data": {
      "text/plain": [
       "['apple', 'ape']"
      ]
     },
     "execution_count": 51,
     "metadata": {},
     "output_type": "execute_result"
    }
   ],
   "source": [
    "patterns = ['ape', 'apple', 'peach', 'puppy']\n",
    "from difflib import get_close_matches\n",
    "get_close_matches('appe', patterns)"
   ]
  },
  {
   "cell_type": "code",
   "execution_count": 68,
   "metadata": {},
   "outputs": [],
   "source": [
    "def find_rep(li):\n",
    "    new_li = list()\n",
    "    \n",
    "    for i in range(0, len(li)):\n",
    "        if((li[i] in li[i+1:]) & (li[i] not in new_li)):\n",
    "            new_li.append(li[i])\n",
    "    return(new_li)"
   ]
  },
  {
   "cell_type": "code",
   "execution_count": 69,
   "metadata": {},
   "outputs": [
    {
     "data": {
      "text/plain": [
       "[20, 30, -20, 60]"
      ]
     },
     "execution_count": 69,
     "metadata": {},
     "output_type": "execute_result"
    }
   ],
   "source": [
    "list1 = [10, 20, 30, 20, 20, 30, 40,  50, -20, 60, 60, -20, -20] \n",
    "find_rep(list1)"
   ]
  },
  {
   "cell_type": "code",
   "execution_count": 70,
   "metadata": {},
   "outputs": [],
   "source": [
    "# palindrome"
   ]
  },
  {
   "cell_type": "code",
   "execution_count": 71,
   "metadata": {},
   "outputs": [],
   "source": [
    "def rotate(li,n):\n",
    "    return(li[-n:] + li[:-n])"
   ]
  },
  {
   "cell_type": "code",
   "execution_count": 72,
   "metadata": {},
   "outputs": [
    {
     "data": {
      "text/plain": [
       "[5, 6, 1, 2, 3, 4]"
      ]
     },
     "execution_count": 72,
     "metadata": {},
     "output_type": "execute_result"
    }
   ],
   "source": [
    "list_1 = [1, 2, 3, 4, 5, 6]\n",
    "rotate(list_1,2)"
   ]
  },
  {
   "cell_type": "code",
   "execution_count": 74,
   "metadata": {},
   "outputs": [
    {
     "name": "stdout",
     "output_type": "stream",
     "text": [
      "[1, 3, 5]\n",
      "[2, 4, 6]\n"
     ]
    }
   ],
   "source": [
    "list_1 = [1, 2, 3, 4, 5, 6]\n",
    "print(list_1[0::2])\n",
    "print(list_1[1::2])"
   ]
  },
  {
   "cell_type": "code",
   "execution_count": 75,
   "metadata": {},
   "outputs": [
    {
     "data": {
      "text/plain": [
       "{1, 2, 3}"
      ]
     },
     "execution_count": 75,
     "metadata": {},
     "output_type": "execute_result"
    }
   ],
   "source": [
    "list1 = [1, 2, 3, 4, 5, 6] \n",
    "list2 = [4, 5, 6, 7, 8]\n",
    "set(list1).difference(list2)"
   ]
  },
  {
   "cell_type": "code",
   "execution_count": 77,
   "metadata": {},
   "outputs": [
    {
     "name": "stdout",
     "output_type": "stream",
     "text": [
      "[1, 3, 6, 10, 15, 21]\n"
     ]
    }
   ],
   "source": [
    "# cumsum\n",
    "list_1 = [1, 2, 3, 4, 5, 6]\n",
    "new_li = list()\n",
    "\n",
    "for i in range(0, len(list_1)):\n",
    "    new_li.append(sum(list_1[:i+1]))\n",
    "print(new_li)"
   ]
  },
  {
   "cell_type": "code",
   "execution_count": 78,
   "metadata": {},
   "outputs": [],
   "source": [
    "# .tolist()"
   ]
  },
  {
   "cell_type": "code",
   "execution_count": 79,
   "metadata": {},
   "outputs": [
    {
     "data": {
      "text/plain": [
       "[['akash', 5], ['rishav', 10], ['gaurav', 15], ['ram', 20]]"
      ]
     },
     "execution_count": 79,
     "metadata": {},
     "output_type": "execute_result"
    }
   ],
   "source": [
    "sub_li =[['rishav', 10], ['akash', 5], ['ram', 20], ['gaurav', 15]] \n",
    "from operator import itemgetter\n",
    "\n",
    "sorted(sub_li, key = itemgetter(1))"
   ]
  },
  {
   "cell_type": "code",
   "execution_count": 87,
   "metadata": {},
   "outputs": [
    {
     "name": "stdout",
     "output_type": "stream",
     "text": [
      "[3, 4, 5, 6, 7, 4]\n"
     ]
    }
   ],
   "source": [
    "l1 = [3,4,5,6,7]\n",
    "l1.append(4)\n",
    "print(l1)"
   ]
  },
  {
   "cell_type": "code",
   "execution_count": 90,
   "metadata": {},
   "outputs": [
    {
     "data": {
      "text/plain": [
       "[3, 4, 9, 6, 7, 4]"
      ]
     },
     "execution_count": 90,
     "metadata": {},
     "output_type": "execute_result"
    }
   ],
   "source": [
    "l1.insert(2, 9)\n",
    "l1"
   ]
  },
  {
   "cell_type": "code",
   "execution_count": 92,
   "metadata": {},
   "outputs": [
    {
     "data": {
      "text/plain": [
       "1"
      ]
     },
     "execution_count": 92,
     "metadata": {},
     "output_type": "execute_result"
    }
   ],
   "source": [
    "l1.count(3)"
   ]
  },
  {
   "cell_type": "code",
   "execution_count": 93,
   "metadata": {},
   "outputs": [
    {
     "data": {
      "text/plain": [
       "'helo'"
      ]
     },
     "execution_count": 93,
     "metadata": {},
     "output_type": "execute_result"
    }
   ],
   "source": [
    "# remove duplicate from string\n",
    "s = 'hello'\n",
    "from collections import OrderedDict\n",
    "''.join(OrderedDict.fromkeys(s))"
   ]
  },
  {
   "cell_type": "code",
   "execution_count": 96,
   "metadata": {},
   "outputs": [
    {
     "data": {
      "text/plain": [
       "'255.24.1.1'"
      ]
     },
     "execution_count": 96,
     "metadata": {},
     "output_type": "execute_result"
    }
   ],
   "source": [
    "ip = '255.024.01.01'\n",
    "ip.split('.')\n",
    "'.'.join([str(int(i)) for i in ip.split('.')])"
   ]
  },
  {
   "cell_type": "code",
   "execution_count": 103,
   "metadata": {},
   "outputs": [
    {
     "data": {
      "text/plain": [
       "'Algorithm.'"
      ]
     },
     "execution_count": 103,
     "metadata": {},
     "output_type": "execute_result"
    }
   ],
   "source": [
    "str1 = \"Write a Java program to sort an array of given integers using Quick sort Algorithm.\"\n",
    "l = str1.split(' ')\n",
    "length = [len(i) for i in l]\n",
    "ind = length.index(max(length))\n",
    "l[ind]"
   ]
  },
  {
   "cell_type": "code",
   "execution_count": 104,
   "metadata": {},
   "outputs": [
    {
     "data": {
      "text/plain": [
       "'a'"
      ]
     },
     "execution_count": 104,
     "metadata": {},
     "output_type": "execute_result"
    }
   ],
   "source": [
    "l = str1.split(' ')\n",
    "length = [len(i) for i in l]\n",
    "ind = length.index(min(length))\n",
    "l[ind]"
   ]
  },
  {
   "cell_type": "code",
   "execution_count": 109,
   "metadata": {},
   "outputs": [
    {
     "data": {
      "text/plain": [
       "[7, 9, 10]"
      ]
     },
     "execution_count": 109,
     "metadata": {},
     "output_type": "execute_result"
    }
   ],
   "source": [
    "l1 = [1, 3, 5, 7, 9, 10]\n",
    "l1[-3:]"
   ]
  },
  {
   "cell_type": "code",
   "execution_count": 113,
   "metadata": {},
   "outputs": [
    {
     "name": "stdout",
     "output_type": "stream",
     "text": [
      "for\n"
     ]
    }
   ],
   "source": [
    "str1 = \"geeks for geeks\"\n",
    "from collections import Counter\n",
    "\n",
    "c1 = Counter(str1)\n",
    "lis = []\n",
    "for k,v in c1.items():\n",
    "    if(v==1):\n",
    "        lis.append(k)\n",
    "print(''.join(lis))"
   ]
  },
  {
   "cell_type": "code",
   "execution_count": 118,
   "metadata": {},
   "outputs": [
    {
     "data": {
      "text/plain": [
       "['geeg', 'keek', 'aa']"
      ]
     },
     "execution_count": 118,
     "metadata": {},
     "output_type": "execute_result"
    }
   ],
   "source": [
    "my_list = [\"geeks\", \"geeg\", \"keek\", \"practice\", \"aa\"]\n",
    "list(filter(lambda x: x==''.join(reversed(x)), my_list))"
   ]
  }
 ],
 "metadata": {
  "kernelspec": {
   "display_name": "Python 3",
   "language": "python",
   "name": "python3"
  },
  "language_info": {
   "codemirror_mode": {
    "name": "ipython",
    "version": 3
   },
   "file_extension": ".py",
   "mimetype": "text/x-python",
   "name": "python",
   "nbconvert_exporter": "python",
   "pygments_lexer": "ipython3",
   "version": "3.7.3"
  }
 },
 "nbformat": 4,
 "nbformat_minor": 4
}
