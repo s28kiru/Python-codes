{
 "cells": [
  {
   "cell_type": "markdown",
   "metadata": {},
   "source": [
    "* Programs covered:\n",
    "    \n",
    "    - Leaders in an array\n",
    "    - kth smallest element in an array"
   ]
  },
  {
   "cell_type": "markdown",
   "metadata": {},
   "source": [
    "### Leaders in an array\n",
    "\n",
    "- https://www.geeksforgeeks.org/leaders-in-an-array/\n",
    "- Time complexity - O(n)"
   ]
  },
  {
   "cell_type": "code",
   "execution_count": 1,
   "metadata": {},
   "outputs": [],
   "source": [
    "def leaders(arr1):\n",
    "    n = len(arr1)\n",
    "    leader = list()\n",
    "    leader.append(arr1[n-1])\n",
    "    max_lead = arr1[n-1]\n",
    "    n = n - 2\n",
    "    while(n >= 0):\n",
    "        if(arr1[n] > max_lead):\n",
    "            leader.append(arr1[n])\n",
    "            max_lead = arr1[n]\n",
    "        n = n-1\n",
    "        \n",
    "    return(leader)"
   ]
  },
  {
   "cell_type": "code",
   "execution_count": 2,
   "metadata": {},
   "outputs": [
    {
     "data": {
      "text/plain": [
       "[2, 5, 17]"
      ]
     },
     "execution_count": 2,
     "metadata": {},
     "output_type": "execute_result"
    }
   ],
   "source": [
    "leaders([16, 17, 4, 3, 5, 2])"
   ]
  },
  {
   "cell_type": "markdown",
   "metadata": {},
   "source": [
    "### Kth smallest element in an array\n",
    "\n",
    "- https://www.geeksforgeeks.org/kth-smallestlargest-element-unsorted-array/\n",
    "- Time Complexity - O(nlog n)"
   ]
  },
  {
   "cell_type": "code",
   "execution_count": 3,
   "metadata": {},
   "outputs": [],
   "source": [
    "def kth_smallest(arr, k):\n",
    "    arr.sort()\n",
    "    return(arr[k-1])"
   ]
  },
  {
   "cell_type": "code",
   "execution_count": 4,
   "metadata": {},
   "outputs": [
    {
     "data": {
      "text/plain": [
       "5"
      ]
     },
     "execution_count": 4,
     "metadata": {},
     "output_type": "execute_result"
    }
   ],
   "source": [
    "kth_smallest([12, 3, 5, 7, 19], 2)"
   ]
  }
 ],
 "metadata": {
  "kernelspec": {
   "display_name": "Python 3",
   "language": "python",
   "name": "python3"
  },
  "language_info": {
   "codemirror_mode": {
    "name": "ipython",
    "version": 3
   },
   "file_extension": ".py",
   "mimetype": "text/x-python",
   "name": "python",
   "nbconvert_exporter": "python",
   "pygments_lexer": "ipython3",
   "version": "3.7.1"
  }
 },
 "nbformat": 4,
 "nbformat_minor": 2
}
