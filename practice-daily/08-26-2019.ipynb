{
 "cells": [
  {
   "cell_type": "markdown",
   "metadata": {},
   "source": [
    "* Programs convered:\n",
    "    \n",
    "    - Kadane's algorithm\n",
    "    - Lowest common ancestors\n",
    "    - Level order traversal of Binary tree"
   ]
  },
  {
   "cell_type": "markdown",
   "metadata": {},
   "source": [
    "### Lowest common ancestor\n",
    "\n",
    "- https://www.geeksforgeeks.org/lowest-common-ancestor-binary-tree-set-1/\n",
    "- Time complexity: O(n)"
   ]
  },
  {
   "cell_type": "code",
   "execution_count": 2,
   "metadata": {},
   "outputs": [],
   "source": [
    "class Node:\n",
    "    def __init__(self, key):\n",
    "        self.key = key\n",
    "        self.left = None\n",
    "        self.right = None\n",
    "\n",
    "def find_LCA(root, n1, n2):\n",
    "    if root is None:\n",
    "        return None\n",
    "    \n",
    "    if root.key == n1 or root.key == n2:\n",
    "        return root\n",
    "    \n",
    "    left_LCA = find_LCA(root.left, n1, n2)\n",
    "    right_LCA = find_LCA(root.right, n1, n2)\n",
    "    \n",
    "    if left_LCA and right_LCA:\n",
    "        return root\n",
    "    \n",
    "    return left_LCA if left_LCA is not None else right_LCA"
   ]
  },
  {
   "cell_type": "code",
   "execution_count": 4,
   "metadata": {},
   "outputs": [],
   "source": [
    "root = Node(1)\n",
    "root.left = Node(2)\n",
    "root.left.left = Node(4)\n",
    "root.left.right = Node(5)\n",
    "root.right = Node(3)\n",
    "root.right.left = Node(6)\n",
    "root.right.right = Node(7)"
   ]
  },
  {
   "cell_type": "code",
   "execution_count": 8,
   "metadata": {},
   "outputs": [
    {
     "name": "stdout",
     "output_type": "stream",
     "text": [
      "LCA(4,5) =  2\n",
      "LCA(4,6) =  1\n",
      "LCA(3,4) =  1\n",
      "LCA(2,4) =  2\n"
     ]
    }
   ],
   "source": [
    "print(\"LCA(4,5) = \", find_LCA(root, 4, 5).key)\n",
    "print(\"LCA(4,6) = \", find_LCA(root, 4, 6).key) \n",
    "print(\"LCA(3,4) = \", find_LCA(root, 3, 4).key) \n",
    "print(\"LCA(2,4) = \", find_LCA(root, 2, 4).key)"
   ]
  },
  {
   "cell_type": "markdown",
   "metadata": {},
   "source": [
    "### Level order tree traversal\n",
    "\n",
    "- https://www.geeksforgeeks.org/level-order-tree-traversal/\n",
    "- Time complexity - O(n)"
   ]
  },
  {
   "cell_type": "code",
   "execution_count": 14,
   "metadata": {},
   "outputs": [],
   "source": [
    "class Node:\n",
    "    def __init__(self, data):\n",
    "        self.data = data\n",
    "        self.left = None\n",
    "        self.right = None\n",
    "        \n",
    "def level_order(root):\n",
    "    if root is None:\n",
    "        return\n",
    "    \n",
    "    queue = []\n",
    "    \n",
    "    queue.append(root)\n",
    "    \n",
    "    while(len(queue) > 0):\n",
    "        print(queue[0].data)\n",
    "        node = queue.pop(0)\n",
    "        \n",
    "        if node.left is not None:\n",
    "            queue.append(node.left)\n",
    "        \n",
    "        if node.right is not None:\n",
    "            queue.append(node.right)"
   ]
  },
  {
   "cell_type": "code",
   "execution_count": 16,
   "metadata": {},
   "outputs": [
    {
     "name": "stdout",
     "output_type": "stream",
     "text": [
      "Level Order Traversal of binary tree is -\n",
      "1\n",
      "2\n",
      "3\n",
      "4\n",
      "5\n"
     ]
    }
   ],
   "source": [
    "#Driver Program to test above function \n",
    "root = Node(1) \n",
    "root.left = Node(2) \n",
    "root.right = Node(3) \n",
    "root.left.left = Node(4) \n",
    "root.left.right = Node(5) \n",
    "  \n",
    "print(\"Level Order Traversal of binary tree is -\")\n",
    "level_order(root) "
   ]
  },
  {
   "cell_type": "markdown",
   "metadata": {},
   "source": [
    "### Kadane's algorithm\n",
    "\n",
    "- https://www.geeksforgeeks.org/largest-sum-contiguous-subarray/\n",
    "- Time complexity - O(n)"
   ]
  },
  {
   "cell_type": "code",
   "execution_count": 21,
   "metadata": {},
   "outputs": [],
   "source": [
    "from sys import maxsize\n",
    "\n",
    "def find_cont(arr1):\n",
    "    n = len(arr1)\n",
    "    \n",
    "    max_start = -maxsize - 1\n",
    "    max_end = 0\n",
    "    start = 0\n",
    "    end = 0\n",
    "    s = 0\n",
    "    \n",
    "    for i in range(0, n):\n",
    "        \n",
    "        max_end += arr1[i]\n",
    "        \n",
    "        if(max_start < max_end):\n",
    "            max_start = max_end\n",
    "            start = s\n",
    "            end = i\n",
    "        \n",
    "        if(max_end < 0):\n",
    "            s += 1\n",
    "            max_end = 0\n",
    "    \n",
    "    print('max contiguous array is: ', max_start)\n",
    "    print('start index: ', start)\n",
    "    print('Ending index: ', end)\n",
    "    "
   ]
  },
  {
   "cell_type": "code",
   "execution_count": 22,
   "metadata": {},
   "outputs": [
    {
     "name": "stdout",
     "output_type": "stream",
     "text": [
      "max contiguous array is:  7\n",
      "start index:  2\n",
      "Ending index:  6\n"
     ]
    }
   ],
   "source": [
    "# Driver program to test maxSubArraySum \n",
    "a = [-2, -3, 4, -1, -2, 1, 5, -3]\n",
    "find_cont(a)"
   ]
  }
 ],
 "metadata": {
  "kernelspec": {
   "display_name": "Python 3",
   "language": "python",
   "name": "python3"
  },
  "language_info": {
   "codemirror_mode": {
    "name": "ipython",
    "version": 3
   },
   "file_extension": ".py",
   "mimetype": "text/x-python",
   "name": "python",
   "nbconvert_exporter": "python",
   "pygments_lexer": "ipython3",
   "version": "3.7.3"
  }
 },
 "nbformat": 4,
 "nbformat_minor": 4
}
