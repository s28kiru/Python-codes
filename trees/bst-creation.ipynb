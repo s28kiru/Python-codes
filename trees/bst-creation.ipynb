{
 "cells": [
  {
   "cell_type": "code",
   "execution_count": 18,
   "metadata": {},
   "outputs": [],
   "source": [
    "class Node:\n",
    "    def __init__(self, data):\n",
    "        self.data = data\n",
    "        self.left = None\n",
    "        self.right = None"
   ]
  },
  {
   "cell_type": "code",
   "execution_count": 19,
   "metadata": {},
   "outputs": [],
   "source": [
    "INT_MIN = float(\"-infinity\")\n",
    "INT_MAX = float(\"infinity\")"
   ]
  },
  {
   "cell_type": "code",
   "execution_count": 20,
   "metadata": {},
   "outputs": [],
   "source": [
    "def getPreIndex():\n",
    "    return ConstructTreeUtil.preIndex"
   ]
  },
  {
   "cell_type": "code",
   "execution_count": 21,
   "metadata": {},
   "outputs": [],
   "source": [
    "def incrementPreIndex():\n",
    "    ConstructTreeUtil.preIndex += 1"
   ]
  },
  {
   "cell_type": "code",
   "execution_count": 27,
   "metadata": {},
   "outputs": [],
   "source": [
    "def ConstructTreeUtil(pre, key, mini, maxi,size):\n",
    "    if(getPreIndex() >= size):\n",
    "        return None\n",
    "    \n",
    "    root = None\n",
    "    \n",
    "    \n",
    "    if(key > mini and key < maxi):\n",
    "        root = Node(key)\n",
    "        incrementPreIndex()\n",
    "        \n",
    "        if(getPreIndex() < size):\n",
    "            root.left = ConstructTreeUtil(pre, pre[getPreIndex()], mini, key, size)\n",
    "            root.right = ConstructTreeUtil(pre, pre[getPreIndex()], key, maxi, size)\n",
    "            \n",
    "    return root"
   ]
  },
  {
   "cell_type": "code",
   "execution_count": 28,
   "metadata": {},
   "outputs": [],
   "source": [
    "def ConstructTree(pre):\n",
    "    ConstructTreeUtil.preIndex = 0\n",
    "    \n",
    "    size = len(pre)\n",
    "    return(ConstructTreeUtil(pre, pre[0], INT_MIN, INT_MAX, size))"
   ]
  },
  {
   "cell_type": "code",
   "execution_count": 29,
   "metadata": {},
   "outputs": [],
   "source": [
    "def print_inorder(node):\n",
    "    if node is None:\n",
    "        return\n",
    "    \n",
    "    print(print_inorder(node.left))\n",
    "    print(node.data)\n",
    "    print(print_inorder(node.right))"
   ]
  },
  {
   "cell_type": "code",
   "execution_count": 30,
   "metadata": {},
   "outputs": [],
   "source": [
    "pre = [10, 5, 1, 7, 40, 50]\n",
    "root = ConstructTree(pre)"
   ]
  },
  {
   "cell_type": "code",
   "execution_count": 36,
   "metadata": {},
   "outputs": [
    {
     "name": "stdout",
     "output_type": "stream",
     "text": [
      "None\n",
      "1\n",
      "None\n",
      "None\n",
      "5\n",
      "None\n",
      "7\n",
      "None\n",
      "None\n",
      "None\n",
      "10\n",
      "None\n",
      "40\n",
      "None\n",
      "50\n",
      "None\n",
      "None\n",
      "None\n"
     ]
    }
   ],
   "source": [
    "print_inorder(root)"
   ]
  },
  {
   "cell_type": "code",
   "execution_count": 35,
   "metadata": {},
   "outputs": [
    {
     "name": "stdout",
     "output_type": "stream",
     "text": [
      "Inorder traversal of the constructed tree: \n",
      "1\n",
      "5\n",
      "7\n",
      "10\n",
      "40\n",
      "50\n"
     ]
    }
   ],
   "source": [
    "\n",
    "  \n",
    "# A recursive function to construct BST from pre[]. \n",
    "# preIndex is used to keep track of index in pre[] \n",
    "def constructTreeUtil(pre, key, mini, maxi, size): \n",
    "      \n",
    "    # Base Case \n",
    "    if(getPreIndex() >= size): \n",
    "        return None\n",
    "  \n",
    "    root = None\n",
    "      \n",
    "    # If current element of pre[] is in range, then  \n",
    "    # only it is part of current subtree \n",
    "    if(key > mini and key < maxi): \n",
    "  \n",
    "        # Allocate memory for root of this subtree  \n",
    "        # and increment constructTreeUtil.preIndex \n",
    "        root = Node(key) \n",
    "        incrementPreIndex() \n",
    "  \n",
    "        if(getPreIndex() < size): \n",
    "             \n",
    "            # Construct the subtree under root  \n",
    "            # All nodes which are in range {min.. key} will \n",
    "            # go in left subtree, and first such node will  \n",
    "            # be root of left subtree \n",
    "            root.left = constructTreeUtil(pre, \n",
    "                         pre[getPreIndex()], mini, key, size) \n",
    "  \n",
    "            # All nodes which are in range{key..max} will \n",
    "            # go to right subtree, and first such node will \n",
    "            # be root of right subtree \n",
    "            root.right = constructTreeUtil(pre, \n",
    "                     pre[getPreIndex()], key, maxi, size) \n",
    "  \n",
    "    return root \n",
    "  \n",
    "# This is the main function to construct BST from given \n",
    "# preorder traversal. This function mainly uses \n",
    "# constructTreeUtil() \n",
    "def constructTree(pre): \n",
    "    constructTreeUtil.preIndex = 0 \n",
    "    size = len(pre) \n",
    "    return constructTreeUtil(pre, pre[0], INT_MIN, INT_MAX, size) \n",
    "  \n",
    "  \n",
    "# A utility function to print inorder traversal of Binary Tree  \n",
    "def printInorder(node): \n",
    "      \n",
    "    if node is None: \n",
    "        return \n",
    "    printInorder(node.left) \n",
    "    print(node.data)  \n",
    "    printInorder(node.right) \n",
    "  \n",
    "  \n",
    "# Driver program to test above function \n",
    "pre = [10, 5, 1, 7, 40, 50] \n",
    "root = constructTree(pre) \n",
    "  \n",
    "print(\"Inorder traversal of the constructed tree: \")\n",
    "printInorder(root) "
   ]
  }
 ],
 "metadata": {
  "kernelspec": {
   "display_name": "Python 3",
   "language": "python",
   "name": "python3"
  },
  "language_info": {
   "codemirror_mode": {
    "name": "ipython",
    "version": 3
   },
   "file_extension": ".py",
   "mimetype": "text/x-python",
   "name": "python",
   "nbconvert_exporter": "python",
   "pygments_lexer": "ipython3",
   "version": "3.7.3"
  }
 },
 "nbformat": 4,
 "nbformat_minor": 4
}
