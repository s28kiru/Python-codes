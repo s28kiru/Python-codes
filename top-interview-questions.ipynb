{
 "cells": [
  {
   "cell_type": "code",
   "execution_count": 4,
   "metadata": {},
   "outputs": [
    {
     "name": "stdout",
     "output_type": "stream",
     "text": [
      "7\n"
     ]
    }
   ],
   "source": [
    "# Write a function to find out longest palindrome in a given string?\n",
    "\n",
    "str1 = 'GEEKS FOR GEEKS'\n",
    "n = len(str1)\n",
    "L = [[0 for x in range(n)] for x in range(n)]\n",
    "\n",
    "for i in range(n):\n",
    "    L[i][i] = 1\n",
    "\n",
    "for cl in range(2, n+1):\n",
    "    for i in range(n-cl+1):\n",
    "        j = i + cl -1\n",
    "        \n",
    "        if(str1[i]==str1[j] and cl == 2):\n",
    "            L[i][j] = 2\n",
    "        elif(str1[i] == str1[j]):\n",
    "            L[i][j] = L[i+1][j-1] + 2\n",
    "        else:\n",
    "            L[i][j] = max(L[i+1][j], L[i][j-1])\n",
    "    \n",
    "print(L[0][n-1])"
   ]
  },
  {
   "cell_type": "code",
   "execution_count": 20,
   "metadata": {},
   "outputs": [
    {
     "data": {
      "text/plain": [
       "['a', 'c', 'd', 'e']"
      ]
     },
     "execution_count": 20,
     "metadata": {},
     "output_type": "execute_result"
    }
   ],
   "source": [
    "# How to find the first non repeated character of a given String?\n",
    "from collections import Counter\n",
    "import operator\n",
    "from operator import itemgetter\n",
    "st = 'bbbbbacde'\n",
    "\n",
    "st = [c for c in st]\n",
    "st\n",
    "\n",
    "c = Counter(st)\n",
    "x = dict(sorted(c.items(), key = operator.itemgetter(1)))\n",
    "\n",
    "[k for k,v in x.items() if v==1]"
   ]
  },
  {
   "cell_type": "code",
   "execution_count": 30,
   "metadata": {},
   "outputs": [
    {
     "data": {
      "text/plain": [
       "'gesiru'"
      ]
     },
     "execution_count": 30,
     "metadata": {},
     "output_type": "execute_result"
    }
   ],
   "source": [
    "# Write a method which will remove any given character from a String?\n",
    "\n",
    "st1 = 'gekskiru'\n",
    "char = 'k'\n",
    "st1 = [c for c in st1 if c!= char]\n",
    "''.join(st1)"
   ]
  }
 ],
 "metadata": {
  "kernelspec": {
   "display_name": "Python 3",
   "language": "python",
   "name": "python3"
  },
  "language_info": {
   "codemirror_mode": {
    "name": "ipython",
    "version": 3
   },
   "file_extension": ".py",
   "mimetype": "text/x-python",
   "name": "python",
   "nbconvert_exporter": "python",
   "pygments_lexer": "ipython3",
   "version": "3.6.8"
  }
 },
 "nbformat": 4,
 "nbformat_minor": 2
}
