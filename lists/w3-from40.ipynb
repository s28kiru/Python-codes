{
 "cells": [
  {
   "cell_type": "code",
   "execution_count": 3,
   "metadata": {},
   "outputs": [
    {
     "name": "stdout",
     "output_type": "stream",
     "text": [
      "g,h\n",
      "c,b,a\n"
     ]
    }
   ],
   "source": [
    "# 41 - additional and missing values\n",
    "list1 = ['a','b','c','d','e','f']\n",
    "list2 = ['d','e','f','g','h']\n",
    "print(','.join(set(list2).difference(set(list1))))\n",
    "print(','.join(set(list1).difference(set(list2))))"
   ]
  },
  {
   "cell_type": "code",
   "execution_count": 4,
   "metadata": {},
   "outputs": [
    {
     "name": "stdout",
     "output_type": "stream",
     "text": [
      "('Black', '#000000', 'rgb(0, 0, 0)')\n",
      "('Red', '#FF0000', 'rgb(255, 0, 0)')\n",
      "('Yellow', '#FFFF00', 'rgb(255, 255, 0)')\n"
     ]
    }
   ],
   "source": [
    "# 42. split list to variables\n",
    "color = [(\"Black\", \"#000000\", \"rgb(0, 0, 0)\"), (\"Red\", \"#FF0000\", \"rgb(255, 0, 0)\"),\n",
    "         (\"Yellow\", \"#FFFF00\", \"rgb(255, 255, 0)\")]\n",
    "var1, var2, var3 = color\n",
    "print(var1)\n",
    "print(var2)\n",
    "print(var3)"
   ]
  }
 ],
 "metadata": {
  "kernelspec": {
   "display_name": "Python 3",
   "language": "python",
   "name": "python3"
  },
  "language_info": {
   "codemirror_mode": {
    "name": "ipython",
    "version": 3
   },
   "file_extension": ".py",
   "mimetype": "text/x-python",
   "name": "python",
   "nbconvert_exporter": "python",
   "pygments_lexer": "ipython3",
   "version": "3.7.3"
  }
 },
 "nbformat": 4,
 "nbformat_minor": 4
}
