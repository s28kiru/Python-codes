{
 "cells": [
  {
   "cell_type": "code",
   "execution_count": 1,
   "metadata": {},
   "outputs": [],
   "source": [
    "# Sort list of dictionaries using itemgetter\n",
    "lis = [{'name': 'Ana', 'age': 25, 'car': 'i10', 'married': False},\n",
    "      {'name': 'Preeti', 'age': 23, 'car': 'maruti', 'married': True},\n",
    "      {'name': 'Tinku', 'age': 22, 'car': 'alto', 'married': False},\n",
    "      {'name': 'Pranav', 'age': 32, 'car': 'bmw', 'married': True}]"
   ]
  },
  {
   "cell_type": "code",
   "execution_count": 3,
   "metadata": {},
   "outputs": [
    {
     "data": {
      "text/plain": [
       "[{'name': 'Tinku', 'age': 22, 'car': 'alto', 'married': False},\n",
       " {'name': 'Preeti', 'age': 23, 'car': 'maruti', 'married': True},\n",
       " {'name': 'Ana', 'age': 25, 'car': 'i10', 'married': False},\n",
       " {'name': 'Pranav', 'age': 32, 'car': 'bmw', 'married': True}]"
      ]
     },
     "execution_count": 3,
     "metadata": {},
     "output_type": "execute_result"
    }
   ],
   "source": [
    "from operator import itemgetter\n",
    "sorted(lis, key = itemgetter('age'))"
   ]
  },
  {
   "cell_type": "code",
   "execution_count": 4,
   "metadata": {},
   "outputs": [
    {
     "data": {
      "text/plain": [
       "[{'name': 'Ana', 'age': 25, 'car': 'i10', 'married': False},\n",
       " {'name': 'Tinku', 'age': 22, 'car': 'alto', 'married': False},\n",
       " {'name': 'Preeti', 'age': 23, 'car': 'maruti', 'married': True},\n",
       " {'name': 'Pranav', 'age': 32, 'car': 'bmw', 'married': True}]"
      ]
     },
     "execution_count": 4,
     "metadata": {},
     "output_type": "execute_result"
    }
   ],
   "source": [
    "from operator import itemgetter\n",
    "sorted(lis, key = itemgetter('married'))"
   ]
  },
  {
   "cell_type": "code",
   "execution_count": 5,
   "metadata": {},
   "outputs": [
    {
     "data": {
      "text/plain": [
       "[{'name': 'Pranav', 'age': 32, 'car': 'bmw', 'married': True},\n",
       " {'name': 'Ana', 'age': 25, 'car': 'i10', 'married': False},\n",
       " {'name': 'Preeti', 'age': 23, 'car': 'maruti', 'married': True},\n",
       " {'name': 'Tinku', 'age': 22, 'car': 'alto', 'married': False}]"
      ]
     },
     "execution_count": 5,
     "metadata": {},
     "output_type": "execute_result"
    }
   ],
   "source": [
    "sorted(lis, key = itemgetter('age', 'name'), reverse = True)"
   ]
  },
  {
   "cell_type": "code",
   "execution_count": 8,
   "metadata": {},
   "outputs": [
    {
     "data": {
      "text/plain": [
       "[{'name': 'Tinku', 'age': 22, 'car': 'alto', 'married': False},\n",
       " {'name': 'Preeti', 'age': 23, 'car': 'maruti', 'married': True},\n",
       " {'name': 'Ana', 'age': 25, 'car': 'i10', 'married': False},\n",
       " {'name': 'Pranav', 'age': 32, 'car': 'bmw', 'married': True}]"
      ]
     },
     "execution_count": 8,
     "metadata": {},
     "output_type": "execute_result"
    }
   ],
   "source": [
    "lis.sort(key = lambda x: x['age'])\n",
    "lis"
   ]
  },
  {
   "cell_type": "code",
   "execution_count": 9,
   "metadata": {},
   "outputs": [
    {
     "name": "stdout",
     "output_type": "stream",
     "text": [
      "['Amar', 'Akbar', 'Anthony']\n",
      "['Amar', 'Akbar', 'Anthony', 'Kiru']\n",
      "['Amar', 'Akbar', 'Anthony', 'Kiru', 'Mary']\n",
      "['Amar', 'Akbar', 'Anthony', 'Kiru']\n",
      "['Amar', 'Akbar', 'Anthony']\n"
     ]
    }
   ],
   "source": [
    "# Use list as stack and queue\n",
    "st = [\"Amar\", \"Akbar\", \"Anthony\"]\n",
    "print(st)\n",
    "st.append('Kiru')\n",
    "print(st)\n",
    "st.append('Mary')\n",
    "print(st)\n",
    "st.pop()\n",
    "print(st)\n",
    "st.pop()\n",
    "print(st)"
   ]
  },
  {
   "cell_type": "code",
   "execution_count": 12,
   "metadata": {},
   "outputs": [
    {
     "name": "stdout",
     "output_type": "stream",
     "text": [
      "deque(['Amar', 'Akbar', 'Anthony'])\n",
      "deque(['Amar', 'Akbar', 'Anthony', 'Kiru'])\n",
      "deque(['Amar', 'Akbar', 'Anthony', 'Kiru', 'Mary'])\n",
      "deque(['Akbar', 'Anthony', 'Kiru', 'Mary'])\n"
     ]
    }
   ],
   "source": [
    "from collections import deque\n",
    "qu = deque([\"Amar\", \"Akbar\", \"Anthony\"])\n",
    "print(qu)\n",
    "qu.append('Kiru')\n",
    "print(qu)\n",
    "qu.append('Mary')\n",
    "print(qu)\n",
    "qu.popleft()\n",
    "print(qu)"
   ]
  },
  {
   "cell_type": "code",
   "execution_count": 14,
   "metadata": {},
   "outputs": [
    {
     "name": "stdout",
     "output_type": "stream",
     "text": [
      "['Today', 'is', 'saturday', 'please', 'practice', 'python']\n"
     ]
    }
   ],
   "source": [
    "# Convert string to list\n",
    "st = 'Today is saturday please practice python'\n",
    "lis = st.split(' ')\n",
    "print(lis)"
   ]
  },
  {
   "cell_type": "code",
   "execution_count": 15,
   "metadata": {},
   "outputs": [],
   "source": [
    "# Divide list to chunks of size N\n",
    "def chunk(li, N):\n",
    "    for i in range(0, len(li), N):\n",
    "        yield(li[i:i+N])"
   ]
  },
  {
   "cell_type": "code",
   "execution_count": 18,
   "metadata": {},
   "outputs": [
    {
     "name": "stdout",
     "output_type": "stream",
     "text": [
      "[['Today', 'is'], ['saturday', 'please'], ['practice', 'python']]\n"
     ]
    }
   ],
   "source": [
    "print(list(chunk(lis, 2)))"
   ]
  },
  {
   "cell_type": "code",
   "execution_count": 26,
   "metadata": {},
   "outputs": [],
   "source": [
    "# Find N largest elements in list\n",
    "def find_large(li, n):\n",
    "    max_li = list()\n",
    "    for j in range(0, n):\n",
    "        max_element = li[0]\n",
    "        for i in range(1, len(li)):\n",
    "            if(max_element < li[i]):\n",
    "                max_element = li[i]\n",
    "                \n",
    "        li.remove(max_element)\n",
    "        max_li.append(max_element)\n",
    "    return(max_li)\n",
    "            \n",
    "        "
   ]
  },
  {
   "cell_type": "code",
   "execution_count": 28,
   "metadata": {},
   "outputs": [
    {
     "data": {
      "text/plain": [
       "[99, 8, 6]"
      ]
     },
     "execution_count": 28,
     "metadata": {},
     "output_type": "execute_result"
    }
   ],
   "source": [
    "find_large([1,2,6,8,3,99], 3)"
   ]
  },
  {
   "cell_type": "code",
   "execution_count": 35,
   "metadata": {},
   "outputs": [
    {
     "name": "stdout",
     "output_type": "stream",
     "text": [
      "['abc', 'acb', 'bac', 'bca', 'cab', 'cba']\n"
     ]
    }
   ],
   "source": [
    "# Find permutation of given string\n",
    "from itertools import permutations\n",
    "\n",
    "str1 = 'abc'\n",
    "perm_list = permutations(str1)\n",
    "li = []\n",
    "for item in list(perm_list):\n",
    "    li.append(''.join(item))\n",
    "print(li)"
   ]
  },
  {
   "cell_type": "code",
   "execution_count": 38,
   "metadata": {},
   "outputs": [
    {
     "name": "stdout",
     "output_type": "stream",
     "text": [
      "33\n"
     ]
    }
   ],
   "source": [
    "# Find max sum if list from list of list\n",
    "list1 = [[1, 2, 3], [4, 5, 6], [10, 11, 12], [7, 8, 9]]\n",
    "\n",
    "max_sum = sum(list1[0])\n",
    "for item in list1:\n",
    "    if(sum(item) > max_sum):\n",
    "        max_sum = sum(item)\n",
    "print(max_sum)\n"
   ]
  },
  {
   "cell_type": "code",
   "execution_count": 40,
   "metadata": {},
   "outputs": [
    {
     "data": {
      "text/plain": [
       "[('ram', '15', '8'), ('laxman', 'sita'), ('krishna', 'akbar', '45'), ('', '')]"
      ]
     },
     "execution_count": 40,
     "metadata": {},
     "output_type": "execute_result"
    }
   ],
   "source": [
    "# Remove empty tuples from list of tuples\n",
    "li = tuples = [(), ('ram','15','8'), (), ('laxman', 'sita'),  \n",
    "          ('krishna', 'akbar', '45'), ('',''),()] \n",
    "\n",
    "[t for t in li if t]"
   ]
  },
  {
   "cell_type": "code",
   "execution_count": 42,
   "metadata": {},
   "outputs": [
    {
     "data": {
      "text/plain": [
       "['apple', 'ape']"
      ]
     },
     "execution_count": 42,
     "metadata": {},
     "output_type": "execute_result"
    }
   ],
   "source": [
    "# Find close matches of input string\n",
    "from difflib import get_close_matches\n",
    "patterns = ['ape', 'apple', 'peach', 'puppy']\n",
    "get_close_matches('appe', patterns)"
   ]
  },
  {
   "cell_type": "code",
   "execution_count": 45,
   "metadata": {},
   "outputs": [],
   "source": [
    "# Find elements which are repeated in the list\n",
    "def find_rep(li):\n",
    "    new_li = list()\n",
    "    \n",
    "    for i in range(0, len(li)):\n",
    "        if((li[i] in li[i+1:]) & (li[i] not in new_li)):\n",
    "            new_li.append(li[i])\n",
    "    return(new_li)"
   ]
  },
  {
   "cell_type": "code",
   "execution_count": 46,
   "metadata": {},
   "outputs": [
    {
     "data": {
      "text/plain": [
       "[20, 30, -20, 60]"
      ]
     },
     "execution_count": 46,
     "metadata": {},
     "output_type": "execute_result"
    }
   ],
   "source": [
    "list1 = [10, 20, 30, 20, 20, 30, 40,  50, -20, 60, 60, -20, -20] \n",
    "find_rep(list1)"
   ]
  },
  {
   "cell_type": "code",
   "execution_count": 59,
   "metadata": {},
   "outputs": [],
   "source": [
    "# Find palindrome numbers from the list\n",
    "def find_pal(li):\n",
    "    new_li = list()\n",
    "    for item in li:\n",
    "        x = item\n",
    "        rev = 0\n",
    "        while(x > 0):\n",
    "            a = x % 10\n",
    "            rev = (rev * 10) + a\n",
    "            x = x // 10\n",
    "        if(rev == item):\n",
    "            new_li.append(item)\n",
    "    \n",
    "    return(new_li)\n",
    "            \n",
    "        "
   ]
  },
  {
   "cell_type": "code",
   "execution_count": 60,
   "metadata": {},
   "outputs": [
    {
     "data": {
      "text/plain": [
       "[121, 141, 252]"
      ]
     },
     "execution_count": 60,
     "metadata": {},
     "output_type": "execute_result"
    }
   ],
   "source": [
    "list_a = [10, 121, 133, 155, 141, 252] \n",
    "find_pal(list_a)\n"
   ]
  },
  {
   "cell_type": "code",
   "execution_count": 64,
   "metadata": {},
   "outputs": [
    {
     "name": "stdout",
     "output_type": "stream",
     "text": [
      "[5, 6, 1, 2, 3, 4]\n",
      "[4, 5, 6, 1, 2, 3]\n"
     ]
    }
   ],
   "source": [
    "# Given a list, right rotate the list by n position.\n",
    "def rotate_list(li, n):\n",
    "    return(li[-n:] + li[0:-n])\n",
    "\n",
    "\n",
    "list_1 = [1, 2, 3, 4, 5, 6]\n",
    "print(rotate_list(list_1, 2))\n",
    "print(rotate_list(list_1, 3))\n"
   ]
  },
  {
   "cell_type": "code",
   "execution_count": 67,
   "metadata": {},
   "outputs": [
    {
     "name": "stdout",
     "output_type": "stream",
     "text": [
      "[1, 3, 5]\n",
      "[2, 4, 6]\n"
     ]
    }
   ],
   "source": [
    "# Split even and odd elements of list to two lists\n",
    "list_1 = [1, 2, 3, 4, 5, 6]\n",
    "print(list_1[0::2])\n",
    "print(list_1[1::2])"
   ]
  },
  {
   "cell_type": "code",
   "execution_count": 69,
   "metadata": {},
   "outputs": [
    {
     "name": "stdout",
     "output_type": "stream",
     "text": [
      "missing in list 2:\t {1, 2, 3}\n",
      "missing in list 1:\t {7, 8}\n"
     ]
    }
   ],
   "source": [
    "# Find missing values in both lists\n",
    "list1 = [1, 2, 3, 4, 5, 6] \n",
    "list2 = [4, 5, 6, 7, 8]\n",
    "\n",
    "print(\"missing in list 2:\\t\", set(list1).difference(list2))\n",
    "print(\"missing in list 1:\\t\", set(list2).difference(list1))"
   ]
  },
  {
   "cell_type": "code",
   "execution_count": 71,
   "metadata": {},
   "outputs": [
    {
     "data": {
      "text/plain": [
       "[1, 3, 6, 10, 15, 21]"
      ]
     },
     "execution_count": 71,
     "metadata": {},
     "output_type": "execute_result"
    }
   ],
   "source": [
    "# Find cumulative sum of list\n",
    "list_1 = [1, 2, 3, 4, 5, 6]\n",
    "new_li = list()\n",
    "for i in range(0, len(list_1)):\n",
    "    new_li.append(sum(list_1[:i+1]))\n",
    "new_li"
   ]
  },
  {
   "cell_type": "code",
   "execution_count": 73,
   "metadata": {},
   "outputs": [
    {
     "data": {
      "text/plain": [
       "[45, 55, 34]"
      ]
     },
     "execution_count": 73,
     "metadata": {},
     "output_type": "execute_result"
    }
   ],
   "source": [
    "# Convert an array to list\n",
    "from array import *\n",
    "arr1 = array('i', [45,55,34])\n",
    "arr1.tolist()"
   ]
  },
  {
   "cell_type": "code",
   "execution_count": 76,
   "metadata": {},
   "outputs": [
    {
     "name": "stdout",
     "output_type": "stream",
     "text": [
      "[['akash', 5], ['rishav', 10], ['gaurav', 15], ['ram', 20]]\n",
      "[['akash', 5], ['rishav', 10], ['gaurav', 15], ['ram', 20]]\n"
     ]
    }
   ],
   "source": [
    "# Sort according to second element in list of list\n",
    "sub_li =[['rishav', 10], ['akash', 5], ['ram', 20], ['gaurav', 15]] \n",
    "\n",
    "# tech 1:\n",
    "print(sorted(sub_li, key = lambda x: x[1]))\n",
    "\n",
    "# tech 2:\n",
    "sub_li.sort(key = lambda x: x[1])\n",
    "print(sub_li)"
   ]
  },
  {
   "cell_type": "code",
   "execution_count": null,
   "metadata": {},
   "outputs": [],
   "source": []
  }
 ],
 "metadata": {
  "kernelspec": {
   "display_name": "Python 3",
   "language": "python",
   "name": "python3"
  },
  "language_info": {
   "codemirror_mode": {
    "name": "ipython",
    "version": 3
   },
   "file_extension": ".py",
   "mimetype": "text/x-python",
   "name": "python",
   "nbconvert_exporter": "python",
   "pygments_lexer": "ipython3",
   "version": "3.6.8"
  }
 },
 "nbformat": 4,
 "nbformat_minor": 2
}
