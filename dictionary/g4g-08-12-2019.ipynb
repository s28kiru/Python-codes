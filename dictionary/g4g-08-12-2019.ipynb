{
 "cells": [
  {
   "cell_type": "code",
   "execution_count": 3,
   "metadata": {},
   "outputs": [
    {
     "data": {
      "text/plain": [
       "{'a': 10, 'b': 8, 'd': 6, 'c': 4}"
      ]
     },
     "execution_count": 3,
     "metadata": {},
     "output_type": "execute_result"
    }
   ],
   "source": [
    "# Merge two dictionary\n",
    "dict1 = {'a': 10, 'b': 8} \n",
    "dict2 = {'d': 6, 'c': 4} \n",
    "dict1.update(dict2)\n",
    "dict1"
   ]
  },
  {
   "cell_type": "code",
   "execution_count": 5,
   "metadata": {},
   "outputs": [
    {
     "data": {
      "text/plain": [
       "[{'name': 'old', 'age': 67},\n",
       " {'name': 'hey', 'age': 25},\n",
       " {'name': 'stupid', 'age': 20}]"
      ]
     },
     "execution_count": 5,
     "metadata": {},
     "output_type": "execute_result"
    }
   ],
   "source": [
    "# sort list of dictionary by value\n",
    "lis = [{'name': 'hey', 'age': 25}, {'name': 'stupid', 'age': 20}, {'name': 'old', 'age': 67}]\n",
    "from operator import itemgetter\n",
    "\n",
    "sorted(lis, key = itemgetter('age'), reverse = True)"
   ]
  },
  {
   "cell_type": "code",
   "execution_count": 14,
   "metadata": {},
   "outputs": [],
   "source": [
    "# Find kth non repeating character\n",
    "from collections import OrderedDict\n",
    "str1 = 'geeksforgeeks'\n",
    "\n",
    "def find_kth(input1, k):\n",
    "    di = OrderedDict.fromkeys(input1,0)\n",
    "    \n",
    "    for i in range(0,len(input1)):\n",
    "        di[input1[i]] += 1\n",
    "    \n",
    "    nonrep = [k for (k,v) in di.items() if v == 1]\n",
    "    \n",
    "    if(len(nonrep) < k):\n",
    "        return('limit exceed')\n",
    "    else:\n",
    "        return(nonrep[k-1])\n"
   ]
  },
  {
   "cell_type": "code",
   "execution_count": 15,
   "metadata": {},
   "outputs": [
    {
     "name": "stdout",
     "output_type": "stream",
     "text": [
      "r\n",
      "o\n",
      "limit exceed\n"
     ]
    }
   ],
   "source": [
    "print(find_kth(str1, 3))\n",
    "\n",
    "print(find_kth(str1, 2))\n",
    "\n",
    "print(find_kth(str1, 5))"
   ]
  },
  {
   "cell_type": "code",
   "execution_count": 16,
   "metadata": {},
   "outputs": [
    {
     "data": {
      "text/plain": [
       "{'a': 1, 'b': 2, 'c': 3, 'd': 4, 'e': 5}"
      ]
     },
     "execution_count": 16,
     "metadata": {},
     "output_type": "execute_result"
    }
   ],
   "source": [
    "# convert two lists to dictionary\n",
    "keys = ['a','b','c','d','e'] \n",
    "values = [1,2,3,4,5]\n",
    "\n",
    "{k:v for k,v in zip(keys,values)}"
   ]
  },
  {
   "cell_type": "code",
   "execution_count": 24,
   "metadata": {},
   "outputs": [
    {
     "name": "stdout",
     "output_type": "stream",
     "text": [
      "True\n",
      "Counter({'a': 2, 'b': 2, 'c': 2})\n",
      "Counter({'a': 2, 'b': 2, 'c': 2})\n"
     ]
    }
   ],
   "source": [
    "# find if one string (2) can become another (1) by deleting some char in it\n",
    "from collections import Counter\n",
    "\n",
    "str1 = 'aabbcc'\n",
    "str2 = 'aabbbcc'\n",
    "\n",
    "c1 = Counter(str1)\n",
    "c2 = Counter(str2)\n",
    "\n",
    "res = c1 & c2\n",
    "print(res == c1)\n",
    "    \n",
    "print(res)\n",
    "print(c1)"
   ]
  },
  {
   "cell_type": "code",
   "execution_count": 33,
   "metadata": {},
   "outputs": [],
   "source": [
    "# mirror characters\n",
    "def mirror(str1, k):\n",
    "    original = 'abcdefghijklmnopqrstuvwxyz'\n",
    "    reverse = 'zyxwvutsrqponmlkjihgfedcba'\n",
    "    dickt = dict(zip(original, reverse))\n",
    "    \n",
    "    final = str1[:k-1]\n",
    "    \n",
    "    for i in range(k-1, len(str1)):\n",
    "        final += dickt[str1[i]]\n",
    "    return(final)\n",
    "\n"
   ]
  },
  {
   "cell_type": "code",
   "execution_count": 34,
   "metadata": {},
   "outputs": [
    {
     "data": {
      "text/plain": [
       "'paizwlc'"
      ]
     },
     "execution_count": 34,
     "metadata": {},
     "output_type": "execute_result"
    }
   ],
   "source": [
    "mirror('paradox', 3)"
   ]
  },
  {
   "cell_type": "code",
   "execution_count": 38,
   "metadata": {},
   "outputs": [
    {
     "name": "stdout",
     "output_type": "stream",
     "text": [
      " Python is great and Java also\n"
     ]
    }
   ],
   "source": [
    "# remove duplicate words\n",
    "str1 = 'Python is great and Java is also great'\n",
    "str1 = str1.split()\n",
    "final = ''\n",
    "for i in range(0, len(str1)):\n",
    "    if(str1[i] not in final):\n",
    "        final += ' ' + str1[i]\n",
    "        \n",
    "print(final)\n",
    "    "
   ]
  },
  {
   "cell_type": "code",
   "execution_count": 41,
   "metadata": {},
   "outputs": [
    {
     "data": {
      "text/plain": [
       "['G', 'e', 'k', 's', ' ']"
      ]
     },
     "execution_count": 41,
     "metadata": {},
     "output_type": "execute_result"
    }
   ],
   "source": [
    "# find duplicate char in string\n",
    "from collections import Counter\n",
    "\n",
    "s = 'Geeks for Geeks'\n",
    "\n",
    "c1 = Counter(s)\n",
    "\n",
    "[k for k,v in c1.items() if v > 1]"
   ]
  },
  {
   "cell_type": "code",
   "execution_count": 3,
   "metadata": {},
   "outputs": [
    {
     "data": {
      "text/plain": [
       "{'akash': 10,\n",
       " 'gaurav': 12,\n",
       " 'anand': 14,\n",
       " 'suraj': 20,\n",
       " 'akhil': 25,\n",
       " 'ashish': 30}"
      ]
     },
     "execution_count": 3,
     "metadata": {},
     "output_type": "execute_result"
    }
   ],
   "source": [
    "# convert list of tuples to dictionary\n",
    "tups = [(\"akash\", 10), (\"gaurav\", 12), (\"anand\", 14),  \n",
    "    (\"suraj\", 20), (\"akhil\", 25), (\"ashish\", 30)] \n",
    "dict(tups)"
   ]
  },
  {
   "cell_type": "code",
   "execution_count": 5,
   "metadata": {},
   "outputs": [
    {
     "data": {
      "text/plain": [
       "['cat', 'cta', 'act', 'atc', 'tca', 'tac']"
      ]
     },
     "execution_count": 5,
     "metadata": {},
     "output_type": "execute_result"
    }
   ],
   "source": [
    "# print all anagrams of a string\n",
    "lis = 'cat'\n",
    "[''.join(per) for per in itertools.permutations(lis)]"
   ]
  },
  {
   "cell_type": "code",
   "execution_count": 4,
   "metadata": {},
   "outputs": [],
   "source": [
    "# find the largest subset of anagram words\n",
    "from collections import Counter\n",
    "\n",
    "def check_anagram(input1):\n",
    "    input1 = input1.split()\n",
    "    \n",
    "    for i in range(0, len(input1)):\n",
    "        input1[i] = ''.join(sorted(input1[i]))\n",
    "    \n",
    "    print(input1)\n",
    "    freq = Counter(input1)\n",
    "    print(freq)\n",
    "    print(max(freq.values()))"
   ]
  },
  {
   "cell_type": "code",
   "execution_count": 5,
   "metadata": {},
   "outputs": [
    {
     "name": "stdout",
     "output_type": "stream",
     "text": [
      "['ant', 'aaegmnt', 'aaegmnt', 'ant', 'aaegmnt']\n",
      "Counter({'aaegmnt': 3, 'ant': 2})\n",
      "3\n"
     ]
    }
   ],
   "source": [
    "check_anagram('ant magenta magnate tan gnamate')"
   ]
  },
  {
   "cell_type": "code",
   "execution_count": 23,
   "metadata": {},
   "outputs": [],
   "source": [
    "def print_binary(n):\n",
    "    binary = 0\n",
    "    x = n\n",
    "    c = 0\n",
    "    atleast1 = 0\n",
    "    \n",
    "    while(x > 0):\n",
    "        \n",
    "        if((x%2 == 0) and (atleast1==0)):\n",
    "            c += 1\n",
    "            x = x // 2\n",
    "        \n",
    "        elif(x%2 == 0):\n",
    "            binary = binary * 10\n",
    "            x = x // 2\n",
    "            \n",
    "        else:\n",
    "            binary = (binary * 10) + 1\n",
    "            x = x // 2\n",
    "            atleast1 = 1\n",
    "    \n",
    "    # reverse binary\n",
    "    final_binary = 0\n",
    "    \n",
    "    while(binary > 0):\n",
    "        final_binary = (final_binary * 10) + (binary % 10)\n",
    "        binary = binary // 10\n",
    "    \n",
    "    while(c != 0):\n",
    "        final_binary = final_binary * 10\n",
    "        c = c - 1\n",
    "        \n",
    "    \n",
    "    #print(binary)\n",
    "    print(final_binary)"
   ]
  },
  {
   "cell_type": "code",
   "execution_count": 29,
   "metadata": {},
   "outputs": [
    {
     "name": "stdout",
     "output_type": "stream",
     "text": [
      "0\n",
      "1111111111\n"
     ]
    }
   ],
   "source": [
    "print_binary(1023)"
   ]
  },
  {
   "cell_type": "code",
   "execution_count": 32,
   "metadata": {},
   "outputs": [
    {
     "data": {
      "text/plain": [
       "OrderedDict([('h', None), ('e', None), ('l', None), ('o', None)])"
      ]
     },
     "execution_count": 32,
     "metadata": {},
     "output_type": "execute_result"
    }
   ],
   "source": [
    "from collections import OrderedDict\n",
    "st = 'hello'\n",
    "OrderedDict.fromkeys(st)"
   ]
  },
  {
   "cell_type": "code",
   "execution_count": 36,
   "metadata": {},
   "outputs": [
    {
     "name": "stdout",
     "output_type": "stream",
     "text": [
      "['go', 'me', 'goal']\n"
     ]
    }
   ],
   "source": [
    "Dict = [\"go\",\"bat\",\"me\",\"eat\",\"goal\",\"boy\", \"run\"]\n",
    "arr = ['e','o','b', 'a','m','g', 'l']\n",
    "li = list()\n",
    "for i in range(0, len(Dict)):\n",
    "    c = 0\n",
    "    for j in range(0, len(Dict[i])):\n",
    "        if(Dict[i][j] in arr):\n",
    "            c += 1\n",
    "    if(c == len(Dict[i])):\n",
    "        li.append(Dict[i])\n",
    "        \n",
    "print(li)\n",
    "        \n",
    "        \n"
   ]
  },
  {
   "cell_type": "code",
   "execution_count": 46,
   "metadata": {},
   "outputs": [
    {
     "data": {
      "text/plain": [
       "[(4, 5), (3, 2), (2, 2)]"
      ]
     },
     "execution_count": 46,
     "metadata": {},
     "output_type": "execute_result"
    }
   ],
   "source": [
    "# find majority element\n",
    "import operator\n",
    "arr = [3,3,4,2,4,4,2,4,4]\n",
    "count = Counter(arr)\n",
    "sorted(count.items(), key = operator.itemgetter(1), reverse = True)"
   ]
  }
 ],
 "metadata": {
  "kernelspec": {
   "display_name": "Python 3",
   "language": "python",
   "name": "python3"
  },
  "language_info": {
   "codemirror_mode": {
    "name": "ipython",
    "version": 3
   },
   "file_extension": ".py",
   "mimetype": "text/x-python",
   "name": "python",
   "nbconvert_exporter": "python",
   "pygments_lexer": "ipython3",
   "version": "3.6.8"
  }
 },
 "nbformat": 4,
 "nbformat_minor": 2
}
