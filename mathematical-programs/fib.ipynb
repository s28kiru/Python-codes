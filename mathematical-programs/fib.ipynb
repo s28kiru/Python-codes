{
 "cells": [
  {
   "cell_type": "code",
   "execution_count": 2,
   "metadata": {},
   "outputs": [],
   "source": [
    "# print n th fib number\n",
    "def n_fib(n):\n",
    "    if(n==0):\n",
    "        return(0)\n",
    "    if(n==1):\n",
    "        return(1)\n",
    "    else:\n",
    "        return(n_fib(n-1) + n_fib(n-2))\n"
   ]
  },
  {
   "cell_type": "code",
   "execution_count": 3,
   "metadata": {},
   "outputs": [
    {
     "data": {
      "text/plain": [
       "34"
      ]
     },
     "execution_count": 3,
     "metadata": {},
     "output_type": "execute_result"
    }
   ],
   "source": [
    "n_fib(9)"
   ]
  },
  {
   "cell_type": "code",
   "execution_count": 9,
   "metadata": {},
   "outputs": [],
   "source": [
    "# check if the given number is fib\n",
    "# a number is fib only if 5n^2 + 4 or 5n^2 - 4 is a perfect square\n",
    "import math\n",
    "def check_perfect(n):\n",
    "    x = int(math.sqrt(n))\n",
    "    \n",
    "    if(x*x == n):\n",
    "        return(True)\n",
    "    else:\n",
    "        return False\n",
    "\n",
    "def fib(n):\n",
    "    return(check_perfect(5*n*n + 4) or check_perfect(5 * n*n - 4))"
   ]
  },
  {
   "cell_type": "code",
   "execution_count": 11,
   "metadata": {},
   "outputs": [
    {
     "data": {
      "text/plain": [
       "False"
      ]
     },
     "execution_count": 11,
     "metadata": {},
     "output_type": "execute_result"
    }
   ],
   "source": [
    "fib(10)"
   ]
  },
  {
   "cell_type": "code",
   "execution_count": 20,
   "metadata": {},
   "outputs": [],
   "source": [
    "# print first 5 fib numbers\n",
    "def fib_print(n):\n",
    "    li = list()\n",
    "    n1 = 0\n",
    "    n2 = 1\n",
    "    li.append(n1)\n",
    "    li.append(n2)\n",
    "    n = n-2\n",
    "    while(n != 0):\n",
    "        n3 = n1 + n2\n",
    "        n1 = n2\n",
    "        n2 = n3\n",
    "        li.append(n3)\n",
    "        n = n-1\n",
    "    print(li)"
   ]
  },
  {
   "cell_type": "code",
   "execution_count": 22,
   "metadata": {},
   "outputs": [
    {
     "name": "stdout",
     "output_type": "stream",
     "text": [
      "[0, 1, 1, 2, 3, 5, 8, 13, 21, 34, 55, 89, 144, 233, 377]\n"
     ]
    }
   ],
   "source": [
    "fib_print(15)"
   ]
  },
  {
   "cell_type": "markdown",
   "metadata": {},
   "source": [
    "'''\n",
    "Zeckendorf’s theorem states that every positive Every positive integer can be written\n",
    "uniquely as a sum of distinct non-neighbouring Fibonacci numbers. \n",
    "Two Fibonacci numbers are neighbours if they one come after other in Fibonacci Sequence (0, 1, 1, 2, 3, 5, ..). \n",
    "For example, 3 and 5 are neighbours, but 2 and 5 are not.'''"
   ]
  },
  {
   "cell_type": "code",
   "execution_count": 28,
   "metadata": {},
   "outputs": [],
   "source": [
    "def find_nearest(n):\n",
    "    n1 = 0\n",
    "    n2 = 1\n",
    "    n3 = n1 + n2\n",
    "    while(n3 < n):\n",
    "        n1 = n2\n",
    "        n2 = n3\n",
    "        n3 = n1 + n2\n",
    "    return(n2)"
   ]
  },
  {
   "cell_type": "code",
   "execution_count": 29,
   "metadata": {},
   "outputs": [],
   "source": [
    "def print_fib(k):\n",
    "    while(k > 0):\n",
    "        f = find_nearest(k)\n",
    "        print(f)\n",
    "        k = k - f\n",
    "        "
   ]
  },
  {
   "cell_type": "code",
   "execution_count": 30,
   "metadata": {},
   "outputs": [
    {
     "name": "stdout",
     "output_type": "stream",
     "text": [
      "21\n",
      "8\n",
      "1\n"
     ]
    }
   ],
   "source": [
    "print_fib(30)"
   ]
  },
  {
   "cell_type": "code",
   "execution_count": null,
   "metadata": {},
   "outputs": [],
   "source": []
  }
 ],
 "metadata": {
  "kernelspec": {
   "display_name": "Python 3",
   "language": "python",
   "name": "python3"
  },
  "language_info": {
   "codemirror_mode": {
    "name": "ipython",
    "version": 3
   },
   "file_extension": ".py",
   "mimetype": "text/x-python",
   "name": "python",
   "nbconvert_exporter": "python",
   "pygments_lexer": "ipython3",
   "version": "3.7.3"
  }
 },
 "nbformat": 4,
 "nbformat_minor": 4
}
