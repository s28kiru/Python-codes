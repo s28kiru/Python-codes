{
 "cells": [
  {
   "cell_type": "code",
   "execution_count": 3,
   "metadata": {},
   "outputs": [],
   "source": [
    "# Find gcd and lcm of two numbers\n",
    "# a * b = lcm(a,b) * gcd(a,b)\n",
    "\n",
    "def gcd(a,b):\n",
    "    if(a==0):\n",
    "        return(b)\n",
    "    else:\n",
    "        return(gcd(b%a, a))\n",
    "    \n",
    "def lcm(a,b):\n",
    "    return((a*b) / gcd(a,b))"
   ]
  },
  {
   "cell_type": "code",
   "execution_count": 4,
   "metadata": {},
   "outputs": [
    {
     "name": "stdout",
     "output_type": "stream",
     "text": [
      "5\n",
      "60.0\n"
     ]
    }
   ],
   "source": [
    "print(gcd(15,20))\n",
    "print(lcm(15,20))"
   ]
  },
  {
   "cell_type": "code",
   "execution_count": 5,
   "metadata": {},
   "outputs": [],
   "source": [
    "# lcm of an array of numbers\n",
    "def lcm_array(arr1):\n",
    "    n1 = arr1[0]\n",
    "    n2 = arr1[1]\n",
    "    \n",
    "    lcm1 = lcm(n1, n2)\n",
    "    \n",
    "    for i in range(2, len(arr1)):\n",
    "        lcm1 = lcm(lcm1, arr1[i])\n",
    "    return(lcm1)"
   ]
  },
  {
   "cell_type": "code",
   "execution_count": 6,
   "metadata": {},
   "outputs": [
    {
     "data": {
      "text/plain": [
       "252.0"
      ]
     },
     "execution_count": 6,
     "metadata": {},
     "output_type": "execute_result"
    }
   ],
   "source": [
    "lcm_array([2,7,3,9,4])"
   ]
  },
  {
   "cell_type": "code",
   "execution_count": 11,
   "metadata": {},
   "outputs": [],
   "source": [
    "# iterative gcd of an array\n",
    "\n",
    "def gcd_iter(a,b):\n",
    "    while(a):\n",
    "        a,b = b%a, a\n",
    "        \n",
    "    return(b)"
   ]
  },
  {
   "cell_type": "code",
   "execution_count": 12,
   "metadata": {},
   "outputs": [
    {
     "data": {
      "text/plain": [
       "5"
      ]
     },
     "execution_count": 12,
     "metadata": {},
     "output_type": "execute_result"
    }
   ],
   "source": [
    "gcd_iter(15,20)"
   ]
  },
  {
   "cell_type": "code",
   "execution_count": 20,
   "metadata": {},
   "outputs": [],
   "source": [
    "def gcd_array(arr1):\n",
    "    n1 = arr1[0]\n",
    "    n2 = arr1[1]\n",
    "    \n",
    "    gcd_final = gcd(n1, n2)\n",
    "    for i in range(0, len(arr1)):\n",
    "        gcd_final = gcd(gcd_final, arr1[i])\n",
    "    return(gcd_final)"
   ]
  },
  {
   "cell_type": "code",
   "execution_count": 21,
   "metadata": {},
   "outputs": [
    {
     "data": {
      "text/plain": [
       "2"
      ]
     },
     "execution_count": 21,
     "metadata": {},
     "output_type": "execute_result"
    }
   ],
   "source": [
    "gcd_array([2, 4, 6, 8, 16])"
   ]
  },
  {
   "cell_type": "code",
   "execution_count": 33,
   "metadata": {},
   "outputs": [],
   "source": [
    "# product of n fractions in reduced form\n",
    "'''\n",
    "Input : N = 3\n",
    "        num[] = { 1, 2, 5 }\n",
    "        den[] = { 2, 1, 6 }\n",
    "Output : 5/6\n",
    "Product of 1/2 * 2/1 * 5/6 is 10/12.\n",
    "Reduced form of 10/12 is 5/6.\n",
    "'''\n",
    "\n",
    "def reduced_fraction(ar1, ar2):\n",
    "    \n",
    "    num_prod = 1\n",
    "    den_prod = 1\n",
    "    \n",
    "    for i in range(0, len(ar1)):\n",
    "        num_prod *= ar1[i]\n",
    "    \n",
    "    for i in range(0, len(ar2)):\n",
    "        den_prod *= ar2[i]\n",
    "    \n",
    "    common = gcd_find(num_prod, den_prod)\n",
    "    \n",
    "    final = str(num_prod//common) + '/' + str(den_prod//common)\n",
    "    return(final)\n",
    "\n",
    "def gcd_find(a,b):\n",
    "    if(a==0):\n",
    "        return(b)\n",
    "    else:\n",
    "        return(gcd_final(b%a, a))"
   ]
  },
  {
   "cell_type": "code",
   "execution_count": 34,
   "metadata": {},
   "outputs": [
    {
     "data": {
      "text/plain": [
       "'5/6'"
      ]
     },
     "execution_count": 34,
     "metadata": {},
     "output_type": "execute_result"
    }
   ],
   "source": [
    "reduced_fraction([1,2,5], [2,1,6])"
   ]
  },
  {
   "cell_type": "code",
   "execution_count": 35,
   "metadata": {},
   "outputs": [],
   "source": [
    "# distributive property of gcd, lcm\n",
    "# GCD(LCM(x,y), LCM(x,z)) = LCM(x, GCD(y,z))"
   ]
  },
  {
   "cell_type": "code",
   "execution_count": 53,
   "metadata": {},
   "outputs": [],
   "source": [
    "# Replace every matrix element with maximum of GCD of row or column\n",
    "def replace_gcd(mat1):\n",
    "    row_gcd = list()\n",
    "    col_gcd = list()\n",
    "    \n",
    "    for i in range(0, len(m)):\n",
    "        x = find_gcd_array(m[i])\n",
    "        row_gcd.append(x)\n",
    "        \n",
    "    for i in range(0, len(m[0])):\n",
    "        li = list()\n",
    "        for j in range(0, len(m)):\n",
    "            li.append(m[j][i])\n",
    "        x = find_gcd_array(li)\n",
    "        col_gcd.append(x)\n",
    "        \n",
    "    for i in range(0, len(m)):\n",
    "        for j in range(0, len(m[0])):\n",
    "            if(row_gcd[i] > col_gcd[j]):\n",
    "                m[i][j] = row_gcd[i]\n",
    "            else:\n",
    "                m[i][j] = col_gcd[j]\n",
    "    print(m)"
   ]
  },
  {
   "cell_type": "code",
   "execution_count": 54,
   "metadata": {},
   "outputs": [],
   "source": [
    "def find_gcd_array(ar1):\n",
    "    n1 = ar1[0]\n",
    "    n2 = ar1[1]\n",
    "    \n",
    "    gcd_final = gcd(n1,n2)\n",
    "    for i in range(2, len(ar1)):\n",
    "        gcd_final = gcd(gcd_final, ar1[i])\n",
    "    return(gcd_final)\n",
    "\n",
    "def gcd(a,b):\n",
    "    if(a==0):\n",
    "        return b\n",
    "    else:\n",
    "        return(gcd(b%a, a))\n",
    "        "
   ]
  },
  {
   "cell_type": "code",
   "execution_count": 55,
   "metadata": {},
   "outputs": [],
   "source": [
    "m = [[1, 2, 3, 3], [4, 5, 6, 6], [7, 8, 9, 9]]"
   ]
  },
  {
   "cell_type": "code",
   "execution_count": 56,
   "metadata": {},
   "outputs": [
    {
     "name": "stdout",
     "output_type": "stream",
     "text": [
      "[[1, 1, 3, 3], [1, 1, 3, 3], [1, 1, 3, 3]]\n"
     ]
    }
   ],
   "source": [
    "replace_gcd(m)"
   ]
  },
  {
   "cell_type": "code",
   "execution_count": 57,
   "metadata": {},
   "outputs": [],
   "source": [
    "# gcd of floating point\n",
    "def find_gcd_float(a,b):\n",
    "    if(a<b):\n",
    "        return(gcd(b,a))\n",
    "    \n",
    "    if(abs(b) < 0.001):\n",
    "        return(a)\n",
    "    else:\n",
    "        return(gcd(b, a - math.floor(a/b) * b))"
   ]
  },
  {
   "cell_type": "code",
   "execution_count": 58,
   "metadata": {},
   "outputs": [
    {
     "name": "stdout",
     "output_type": "stream",
     "text": [
      " 0.0\n"
     ]
    }
   ],
   "source": [
    "a = 1.20\n",
    "b = 22.5\n",
    "\n",
    "print('{0: .1f}'.format(gcd(a,b)))"
   ]
  },
  {
   "cell_type": "code",
   "execution_count": 60,
   "metadata": {},
   "outputs": [
    {
     "name": "stdout",
     "output_type": "stream",
     "text": [
      "0.3\n"
     ]
    }
   ],
   "source": [
    "import math\n",
    "def gcd(a,b) : \n",
    "    if (a < b) : \n",
    "        return gcd(b, a) \n",
    "      \n",
    "    # base case \n",
    "    if (abs(b) < 0.001) : \n",
    "        return a \n",
    "    else : \n",
    "        return (gcd(b, a - math.floor(a / b) * b)) \n",
    "      \n",
    "       \n",
    "\n",
    "a = 1.20\n",
    "b = 22.5\n",
    "print('{0:.1f}'.format(gcd(a, b))) "
   ]
  }
 ],
 "metadata": {
  "kernelspec": {
   "display_name": "Python 3",
   "language": "python",
   "name": "python3"
  },
  "language_info": {
   "codemirror_mode": {
    "name": "ipython",
    "version": 3
   },
   "file_extension": ".py",
   "mimetype": "text/x-python",
   "name": "python",
   "nbconvert_exporter": "python",
   "pygments_lexer": "ipython3",
   "version": "3.7.3"
  }
 },
 "nbformat": 4,
 "nbformat_minor": 4
}
