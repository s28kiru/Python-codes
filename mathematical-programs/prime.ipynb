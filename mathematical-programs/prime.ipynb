{
 "cells": [
  {
   "cell_type": "code",
   "execution_count": 1,
   "metadata": {},
   "outputs": [],
   "source": [
    "# print all prime factors of a number\n",
    "import math\n",
    "def prime_factors(n):\n",
    "    \n",
    "    while(n%2 == 0):\n",
    "        print(2)\n",
    "        n = n /2\n",
    "    \n",
    "    for i in range(3, int(math.sqrt(n))+1, 2):\n",
    "        if(n % i == 0):\n",
    "            print(i)\n",
    "            n = n / i\n",
    "    \n",
    "    if(n > 2):\n",
    "        print(n)"
   ]
  },
  {
   "cell_type": "code",
   "execution_count": 5,
   "metadata": {},
   "outputs": [
    {
     "name": "stdout",
     "output_type": "stream",
     "text": [
      "2\n",
      "2\n",
      "2\n"
     ]
    }
   ],
   "source": [
    "prime_factors(8)"
   ]
  },
  {
   "cell_type": "markdown",
   "metadata": {},
   "source": [
    "# find if a given number is a smith number\n",
    "'''\n",
    "Given a number n, the task is to find out whether this number is smith or not. A Smith Number is a composite number whose sum of digits is equal to the sum of digits in its prime factorization.\n",
    "Examples:\n",
    "\n",
    "Input  : n = 4\n",
    "Output : Yes\n",
    "Prime factorization = 2, 2  and 2 + 2 = 4\n",
    "Therefore, 4 is a smith number\n",
    "\n",
    "Input  : n = 6\n",
    "Output : No\n",
    "Prime factorization = 2, 3  and 2 + 3 is\n",
    "not 6. Therefore, 6 is not a smith number\n",
    "\n",
    "Input   : n = 666\n",
    "Output  : Yes\n",
    "Prime factorization = 2, 3, 3, 37 and\n",
    "2 + 3 + 3 + (3 + 7) = 6 + 6 + 6 = 18\n",
    "Therefore, 666 is a smith number\n",
    "'''"
   ]
  },
  {
   "cell_type": "code",
   "execution_count": 12,
   "metadata": {},
   "outputs": [],
   "source": [
    "def find_smith(n):\n",
    "    prime_factor = list()\n",
    "    \n",
    "    sum_of_digit = 0\n",
    "    \n",
    "    x = n\n",
    "    while(x > 0):\n",
    "        sum_of_digit += x % 10\n",
    "        x = x // 10\n",
    "        \n",
    "    print(sum_of_digit)\n",
    "    \n",
    "    while(n % 2 == 0):\n",
    "        prime_factor.append(2)\n",
    "        n = n / 2\n",
    "    \n",
    "    for i in range(3, int(math.sqrt(n))+1, 2):\n",
    "        if(n%i == 0):\n",
    "            prime_factor.append(i)\n",
    "            n = n / i\n",
    "    \n",
    "    if(n>2):\n",
    "        prime_factor.append(n)\n",
    "    \n",
    "    if(sum(prime_factor) == sum_of_digit):\n",
    "        print(True)\n",
    "    else:\n",
    "        print(False)\n",
    "\n"
   ]
  },
  {
   "cell_type": "code",
   "execution_count": 15,
   "metadata": {},
   "outputs": [
    {
     "name": "stdout",
     "output_type": "stream",
     "text": [
      "4\n",
      "False\n"
     ]
    }
   ],
   "source": [
    "find_smith(13)"
   ]
  },
  {
   "cell_type": "code",
   "execution_count": 18,
   "metadata": {},
   "outputs": [
    {
     "data": {
      "text/plain": [
       "5"
      ]
     },
     "execution_count": 18,
     "metadata": {},
     "output_type": "execute_result"
    }
   ],
   "source": [
    "# sphenic number is a number which is a product  of exactly 3 unique primes\n",
    "li = [2,2,2,3]\n",
    "sum(set(li))"
   ]
  },
  {
   "cell_type": "code",
   "execution_count": 19,
   "metadata": {},
   "outputs": [
    {
     "data": {
      "text/plain": [
       "3"
      ]
     },
     "execution_count": 19,
     "metadata": {},
     "output_type": "execute_result"
    }
   ],
   "source": [
    "max(li)"
   ]
  },
  {
   "cell_type": "code",
   "execution_count": 17,
   "metadata": {},
   "outputs": [],
   "source": [
    "# Print all prime numbers between 1 and n\n",
    "# Sieve of eratosthenes\n",
    "# https://www.geeksforgeeks.org/sieve-of-eratosthenes/\n",
    "\n",
    "def print_prime(n):\n",
    "    \n",
    "    prime = [True for i in range(n+1)]\n",
    "    \n",
    "    p = 2\n",
    "    \n",
    "    while( p*p <= n):\n",
    "        if(prime[p] == True):\n",
    "            for i in range(p*p, n+1, p):\n",
    "                prime[i] = False\n",
    "        p = p + 1\n",
    "    \n",
    "    print(prime)\n",
    "    \n",
    "    for i in range(2, len(prime)):\n",
    "        if(prime[i]):\n",
    "            print(i)"
   ]
  },
  {
   "cell_type": "code",
   "execution_count": 18,
   "metadata": {},
   "outputs": [
    {
     "name": "stdout",
     "output_type": "stream",
     "text": [
      "[True, True, True, True, False, True, False, True, False, False, False, True, False, True, False, False]\n",
      "2\n",
      "3\n",
      "5\n",
      "7\n",
      "11\n",
      "13\n"
     ]
    }
   ],
   "source": [
    "print_prime(15)"
   ]
  },
  {
   "cell_type": "code",
   "execution_count": 19,
   "metadata": {},
   "outputs": [],
   "source": [
    "def gcd(a,b):\n",
    "    if(a==0):\n",
    "        return(b)\n",
    "    else:\n",
    "        return(gcd(b%a, a))"
   ]
  },
  {
   "cell_type": "code",
   "execution_count": 28,
   "metadata": {},
   "outputs": [
    {
     "data": {
      "text/plain": [
       "8"
      ]
     },
     "execution_count": 28,
     "metadata": {},
     "output_type": "execute_result"
    }
   ],
   "source": [
    "gcd(24, 64)"
   ]
  },
  {
   "cell_type": "code",
   "execution_count": 29,
   "metadata": {},
   "outputs": [],
   "source": [
    "def fib(n):\n",
    "    if(n==1):\n",
    "        return(1)\n",
    "    if(n==2):\n",
    "        return(1)\n",
    "    else:\n",
    "        return(fib(n-1) + fib(n-2))"
   ]
  },
  {
   "cell_type": "code",
   "execution_count": 32,
   "metadata": {},
   "outputs": [
    {
     "data": {
      "text/plain": [
       "34"
      ]
     },
     "execution_count": 32,
     "metadata": {},
     "output_type": "execute_result"
    }
   ],
   "source": [
    "fib(9)"
   ]
  },
  {
   "cell_type": "code",
   "execution_count": 35,
   "metadata": {},
   "outputs": [],
   "source": [
    "def factorial(n):\n",
    "    if(n==1):\n",
    "        return(1)\n",
    "    else:\n",
    "        return(n * factorial(n-1))"
   ]
  },
  {
   "cell_type": "code",
   "execution_count": 36,
   "metadata": {},
   "outputs": [
    {
     "data": {
      "text/plain": [
       "120"
      ]
     },
     "execution_count": 36,
     "metadata": {},
     "output_type": "execute_result"
    }
   ],
   "source": [
    "factorial(5)"
   ]
  }
 ],
 "metadata": {
  "kernelspec": {
   "display_name": "Python 3",
   "language": "python",
   "name": "python3"
  },
  "language_info": {
   "codemirror_mode": {
    "name": "ipython",
    "version": 3
   },
   "file_extension": ".py",
   "mimetype": "text/x-python",
   "name": "python",
   "nbconvert_exporter": "python",
   "pygments_lexer": "ipython3",
   "version": "3.6.5"
  }
 },
 "nbformat": 4,
 "nbformat_minor": 2
}
