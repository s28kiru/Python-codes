{
 "cells": [
  {
   "cell_type": "code",
   "execution_count": 1,
   "metadata": {},
   "outputs": [],
   "source": [
    "# Find subarray with given sum \n",
    "def find_cont_sum(ar1, sum1):\n",
    "    cur_sum = ar1[0]\n",
    "    start = 0\n",
    "    for i in range(1, len(ar1)):\n",
    "        \n",
    "        while(cur_sum > sum1 and start != i-1):\n",
    "            cur_sum = cur_sum - ar1[start]\n",
    "            start = start + 1\n",
    "            \n",
    "        if(cur_sum == sum1):\n",
    "            return(start, i-1)\n",
    "        \n",
    "        else:\n",
    "            cur_sum += ar1[i]\n",
    "    return(-1)\n",
    "        "
   ]
  },
  {
   "cell_type": "code",
   "execution_count": 2,
   "metadata": {},
   "outputs": [
    {
     "data": {
      "text/plain": [
       "(1, 4)"
      ]
     },
     "execution_count": 2,
     "metadata": {},
     "output_type": "execute_result"
    }
   ],
   "source": [
    "arr = [15, 2, 4, 8, 9, 5, 10, 23] \n",
    "sum1 = 23\n",
    "find_cont_sum(arr,sum1)"
   ]
  },
  {
   "cell_type": "code",
   "execution_count": 4,
   "metadata": {},
   "outputs": [
    {
     "name": "stdout",
     "output_type": "stream",
     "text": [
      "(2, 4)\n",
      "(1, 4)\n",
      "-1\n"
     ]
    }
   ],
   "source": [
    "arr = [1, 4, 20, 3, 10, 5]\n",
    "sum1 = 33\n",
    "print(find_cont_sum(arr, sum1))\n",
    "\n",
    "ar2 = [1, 4, 0, 0, 3, 10, 5]\n",
    "sum2 = 7\n",
    "print(find_cont_sum(ar2, sum2))\n",
    "\n",
    "ar3 = [1, 4]\n",
    "sum3 = 0\n",
    "print(find_cont_sum(ar3, sum3))"
   ]
  }
 ],
 "metadata": {
  "kernelspec": {
   "display_name": "Python 3",
   "language": "python",
   "name": "python3"
  },
  "language_info": {
   "codemirror_mode": {
    "name": "ipython",
    "version": 3
   },
   "file_extension": ".py",
   "mimetype": "text/x-python",
   "name": "python",
   "nbconvert_exporter": "python",
   "pygments_lexer": "ipython3",
   "version": "3.6.5"
  }
 },
 "nbformat": 4,
 "nbformat_minor": 2
}
