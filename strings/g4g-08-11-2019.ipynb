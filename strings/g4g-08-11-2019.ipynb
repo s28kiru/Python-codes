{
 "cells": [
  {
   "cell_type": "code",
   "execution_count": 2,
   "metadata": {},
   "outputs": [],
   "source": [
    "# Count number of lower and upper case letters\n",
    "def find_case(str1):\n",
    "    up = 0\n",
    "    lo = 0\n",
    "    for i in range(0, len(str1)):\n",
    "        if((ord(str1[i]) > 65) & (ord(str1[i]) < 90)):\n",
    "            up = up + 1\n",
    "        if((ord(str1[i]) > 97) & (ord(str1[i]) < 122)):\n",
    "            lo = lo + 1\n",
    "    print(\"lower\\t\", lo)\n",
    "    print(\"upper\\t\", up)"
   ]
  },
  {
   "cell_type": "code",
   "execution_count": 3,
   "metadata": {},
   "outputs": [
    {
     "name": "stdout",
     "output_type": "stream",
     "text": [
      "lower\t 9\n",
      "upper\t 6\n"
     ]
    }
   ],
   "source": [
    "find_case(\"Happy Birthday KIRU\")"
   ]
  },
  {
   "cell_type": "code",
   "execution_count": 9,
   "metadata": {},
   "outputs": [],
   "source": [
    "# Find number of elements in both list\n",
    "def find_count(str1, str2):\n",
    "    c = 0\n",
    "    for i in range(0, len(str1)):\n",
    "        if(str1[i] in str2):\n",
    "            c = c + 1\n",
    "    print(\"count\\n\", c)"
   ]
  },
  {
   "cell_type": "code",
   "execution_count": 10,
   "metadata": {},
   "outputs": [
    {
     "name": "stdout",
     "output_type": "stream",
     "text": [
      "count\n",
      " 5\n"
     ]
    }
   ],
   "source": [
    "str1 ='aabcddekll12@' # first string \n",
    "str2 ='bb2211@55k' # second string \n",
    "find_count(str1, str2)"
   ]
  },
  {
   "cell_type": "code",
   "execution_count": 15,
   "metadata": {},
   "outputs": [
    {
     "name": "stdout",
     "output_type": "stream",
     "text": [
      "['Happy', 'birthday', 'birthday']\n"
     ]
    }
   ],
   "source": [
    "# Accept all strings with vowels\n",
    "vow = list('aeiou')\n",
    "\n",
    "list1 = ['Happy', \"plr\", 'dplyr', 'birthday']\n",
    "new_li = list()\n",
    "\n",
    "for i in range(0, len(list1)):\n",
    "    for j in range(0, len(vow)):\n",
    "            if(vow[j] in list1[i]):\n",
    "                new_li.append(list1[i])\n",
    "\n",
    "print(new_li)\n",
    "        "
   ]
  },
  {
   "cell_type": "code",
   "execution_count": 19,
   "metadata": {},
   "outputs": [
    {
     "data": {
      "text/plain": [
       "Counter({'Nobody': 1,\n",
       "         'is': 1,\n",
       "         'perfect': 2,\n",
       "         'I': 2,\n",
       "         'am': 2,\n",
       "         'nobody': 1,\n",
       "         'so': 1})"
      ]
     },
     "execution_count": 19,
     "metadata": {},
     "output_type": "execute_result"
    }
   ],
   "source": [
    "# Find count of all words\n",
    "str1 = \"Nobody is perfect I am nobody so I am perfect\"\n",
    "from collections import Counter\n",
    "li = str1.split(' ')\n",
    "Counter(li)"
   ]
  },
  {
   "cell_type": "code",
   "execution_count": 25,
   "metadata": {},
   "outputs": [
    {
     "name": "stdout",
     "output_type": "stream",
     "text": [
      "hi my name is Kiru and my age is 25\n"
     ]
    }
   ],
   "source": [
    "# formating string literals\n",
    "name = \"Kiru\"\n",
    "age = 25\n",
    "print(f\"hi my name is {name} and my age is {age}\")"
   ]
  },
  {
   "cell_type": "code",
   "execution_count": 35,
   "metadata": {},
   "outputs": [
    {
     "data": {
      "text/plain": [
       "0    1\n",
       "1    0\n",
       "2    2\n",
       "3    1\n",
       "4    0\n",
       "dtype: int8"
      ]
     },
     "execution_count": 35,
     "metadata": {},
     "output_type": "execute_result"
    }
   ],
   "source": [
    "# Covert string to codes/ int\n",
    "import pandas as pd\n",
    "li = ['male', 'female', 'neither', 'male', 'female']\n",
    "new_ser = pd.Series(li)\n",
    "new_ser.astype('category').cat.codes"
   ]
  },
  {
   "cell_type": "code",
   "execution_count": 37,
   "metadata": {},
   "outputs": [
    {
     "data": {
      "text/plain": [
       "'Gees for geeks'"
      ]
     },
     "execution_count": 37,
     "metadata": {},
     "output_type": "execute_result"
    }
   ],
   "source": [
    "# Remove ith character\n",
    "str1 = 'Geeks for geeks'\n",
    "n = 3\n",
    "str1[0:n] + str1[n+1:]"
   ]
  },
  {
   "cell_type": "code",
   "execution_count": 39,
   "metadata": {},
   "outputs": [
    {
     "data": {
      "text/plain": [
       "'agkr'"
      ]
     },
     "execution_count": 39,
     "metadata": {},
     "output_type": "execute_result"
    }
   ],
   "source": [
    "# Remove duplicates from string\n",
    "str1 = 'ggkkkkar'\n",
    "''.join(set(str1))"
   ]
  },
  {
   "cell_type": "code",
   "execution_count": 40,
   "metadata": {},
   "outputs": [
    {
     "data": {
      "text/plain": [
       "'geeksforgeeks'"
      ]
     },
     "execution_count": 40,
     "metadata": {},
     "output_type": "execute_result"
    }
   ],
   "source": [
    "# Convert list of character to string\n",
    "s = ['g', 'e', 'e', 'k', 's', 'f', 'o', 'r', 'g', 'e', 'e', 'k', 's'] \n",
    "''.join(s)"
   ]
  },
  {
   "cell_type": "code",
   "execution_count": 44,
   "metadata": {},
   "outputs": [
    {
     "data": {
      "text/plain": [
       "'geeksforgeeks learn programming refer to'"
      ]
     },
     "execution_count": 44,
     "metadata": {},
     "output_type": "execute_result"
    }
   ],
   "source": [
    "# Arrange words in sentence alphabetically\n",
    "Sentence = \"to learn programming refer geeksforgeeks\"\n",
    "s = Sentence.split(' ')\n",
    "s.sort()\n",
    "' '.join(s)"
   ]
  },
  {
   "cell_type": "code",
   "execution_count": 45,
   "metadata": {},
   "outputs": [
    {
     "data": {
      "text/plain": [
       "False"
      ]
     },
     "execution_count": 45,
     "metadata": {},
     "output_type": "execute_result"
    }
   ],
   "source": [
    "string = '123ayu456'\n",
    "string.isnumeric()"
   ]
  },
  {
   "cell_type": "code",
   "execution_count": 49,
   "metadata": {},
   "outputs": [
    {
     "data": {
      "text/plain": [
       "'M.K.Gandhi'"
      ]
     },
     "execution_count": 49,
     "metadata": {},
     "output_type": "execute_result"
    }
   ],
   "source": [
    "# Print all words initials except for last\n",
    "s =\"mohandas karamchand gandhi\" \n",
    "s = s.split(' ')\n",
    "new_s = ''\n",
    "for i in range(0, len(s)-1):\n",
    "    new_s = new_s + s[i][0].upper() + '.'\n",
    "new_s = new_s + s[-1][0].upper() + s[-1][1:]\n",
    "new_s"
   ]
  },
  {
   "cell_type": "code",
   "execution_count": 50,
   "metadata": {},
   "outputs": [
    {
     "data": {
      "text/plain": [
       "[('John', 3), ('is', 2), ('son', 2), ('of', 2)]"
      ]
     },
     "execution_count": 50,
     "metadata": {},
     "output_type": "execute_result"
    }
   ],
   "source": [
    "# Find top most occuring k words\n",
    "from collections import Counter\n",
    "ip = \"John is the son of John second. Second son of John second is William second.\"\n",
    "ip = ip.split()\n",
    "c = Counter(ip)\n",
    "c.most_common(4)"
   ]
  },
  {
   "cell_type": "code",
   "execution_count": 53,
   "metadata": {},
   "outputs": [
    {
     "name": "stdout",
     "output_type": "stream",
     "text": [
      "2\n"
     ]
    }
   ],
   "source": [
    "# Count occurence of words in string\n",
    "string = \"geeks for Geeks A computer science portal for geeks\"\n",
    "word = \"geeks\"\n",
    "s = string.split()\n",
    "count = 0\n",
    "\n",
    "for i in range(0, len(s)):\n",
    "    if(s[i] == word):\n",
    "        count = count + 1\n",
    "print(count)"
   ]
  },
  {
   "cell_type": "code",
   "execution_count": 55,
   "metadata": {},
   "outputs": [
    {
     "data": {
      "text/plain": [
       "'ksGeeksforGee'"
      ]
     },
     "execution_count": 55,
     "metadata": {},
     "output_type": "execute_result"
    }
   ],
   "source": [
    "# Rotate the string\n",
    "s = \"GeeksforGeeks\"\n",
    "d = 2\n",
    "\n",
    "s[-2:] + s[0:-2]"
   ]
  },
  {
   "cell_type": "code",
   "execution_count": 68,
   "metadata": {},
   "outputs": [
    {
     "data": {
      "text/plain": [
       "'skeeg rof skeeG'"
      ]
     },
     "execution_count": 68,
     "metadata": {},
     "output_type": "execute_result"
    }
   ],
   "source": [
    "# Reverse words in the given string\n",
    "string = \"geeks for Geeks\"\n",
    "s = string.split(' ')\n",
    "#new_s = list()\n",
    "for i in range(0,len(s)):\n",
    "    s[i] = s[i][-1::-1]\n",
    "' '.join(s)    \n",
    "    \n",
    "    "
   ]
  },
  {
   "cell_type": "code",
   "execution_count": 73,
   "metadata": {},
   "outputs": [
    {
     "name": "stdout",
     "output_type": "stream",
     "text": [
      "10,000,000,000\n"
     ]
    }
   ],
   "source": [
    "# write numbers with place value commas\n",
    "n = 10000000000\n",
    "print('{:,}'.format(n))"
   ]
  },
  {
   "cell_type": "code",
   "execution_count": 78,
   "metadata": {},
   "outputs": [
    {
     "data": {
      "text/plain": [
       "['geeks', 'geeksforgeeks']"
      ]
     },
     "execution_count": 78,
     "metadata": {},
     "output_type": "execute_result"
    }
   ],
   "source": [
    "# Find strings containing a certain prefix\n",
    "from pytrie import StringTrie\n",
    "array = ['geeksforgeeks','forgeeks','geeks','eeksfor'] \n",
    "prefix = 'geek'\n",
    "\n",
    "trie = StringTrie()\n",
    "for key in array:\n",
    "    trie[key] = key\n",
    "trie.values(prefix)"
   ]
  },
  {
   "cell_type": "code",
   "execution_count": 80,
   "metadata": {},
   "outputs": [
    {
     "data": {
      "text/plain": [
       "'D'"
      ]
     },
     "execution_count": 80,
     "metadata": {},
     "output_type": "execute_result"
    }
   ],
   "source": [
    "# Increment a character\n",
    "a = 'A'\n",
    "chr(ord(a) + 3)"
   ]
  },
  {
   "cell_type": "code",
   "execution_count": 83,
   "metadata": {},
   "outputs": [
    {
     "name": "stdout",
     "output_type": "stream",
     "text": [
      "w4a3d1e1x6\n"
     ]
    }
   ],
   "source": [
    "# Run length encoding\n",
    "input='wwwwaaadexxxxxx'\n",
    "\n",
    "char = input[0]\n",
    "count = 1\n",
    "new_out = input[0]\n",
    "\n",
    "for i in range(1, len(input)):\n",
    "    if(input[i] == char):\n",
    "        count = count + 1\n",
    "    else:\n",
    "        new_out = new_out + str(count) + input[i]\n",
    "        char = input[i]\n",
    "        count = 1\n",
    "new_out = new_out + str(count)\n",
    "print(new_out)\n",
    "        "
   ]
  },
  {
   "cell_type": "code",
   "execution_count": 91,
   "metadata": {},
   "outputs": [
    {
     "data": {
      "text/plain": [
       "'     movethesespacestobeginning'"
      ]
     },
     "execution_count": 91,
     "metadata": {},
     "output_type": "execute_result"
    }
   ],
   "source": [
    "# Move spaces to beginning\n",
    "input =  \"move these spaces to beginning\"\n",
    "input = input.split()\n",
    "l = len(input)\n",
    "space = ' '\n",
    "for i in range(0, len(input)-1):\n",
    "    space += ' '\n",
    "space + ''.join(input)"
   ]
  },
  {
   "cell_type": "code",
   "execution_count": 94,
   "metadata": {},
   "outputs": [
    {
     "data": {
      "text/plain": [
       "'is Python and also great Java'"
      ]
     },
     "execution_count": 94,
     "metadata": {},
     "output_type": "execute_result"
    }
   ],
   "source": [
    "# Remove duplicate words from string\n",
    "input = 'Python is great and Java is also great'\n",
    "input = input.split()\n",
    "' '.join(list(set(input)))"
   ]
  },
  {
   "cell_type": "code",
   "execution_count": 105,
   "metadata": {},
   "outputs": [
    {
     "name": "stdout",
     "output_type": "stream",
     "text": [
      "f\n",
      "o\n",
      "r\n"
     ]
    }
   ],
   "source": [
    "# Find the char which are not repeating in string\n",
    "str1 = \"geeks for geeks\"\n",
    "c = Counter(str1)\n",
    "for k,v in c.items():\n",
    "    #print(v)\n",
    "    if(v == 1):\n",
    "        \n",
    "        print(k)"
   ]
  },
  {
   "cell_type": "code",
   "execution_count": 109,
   "metadata": {},
   "outputs": [
    {
     "name": "stdout",
     "output_type": "stream",
     "text": [
      "ccc\n"
     ]
    }
   ],
   "source": [
    "# Find second most occuring word in the list\n",
    "input = ['aaa','bbb','ccc','bbb','aaa','aaa', 'ccc', 'aaa', 'ccc', 'aaa'] \n",
    "c = Counter(input)\n",
    "s = sorted(c.values(), reverse = True)\n",
    "second = s[1]\n",
    "\n",
    "for k,v in c.items():\n",
    "    if(v == second):\n",
    "        print(k)"
   ]
  },
  {
   "cell_type": "code",
   "execution_count": 111,
   "metadata": {},
   "outputs": [
    {
     "name": "stdout",
     "output_type": "stream",
     "text": [
      "had\n"
     ]
    }
   ],
   "source": [
    "# Find the first repeated word in string\n",
    "ip = \"Ravi had been saying that he had been there\"\n",
    "ip_list = ip.split()\n",
    "c = Counter(ip_list)\n",
    "\n",
    "for item in ip_list:\n",
    "    if(c[item] > 1):\n",
    "        print(item)\n",
    "        break"
   ]
  },
  {
   "cell_type": "code",
   "execution_count": 113,
   "metadata": {},
   "outputs": [
    {
     "data": {
      "text/plain": [
       "'bcgf'"
      ]
     },
     "execution_count": 113,
     "metadata": {},
     "output_type": "execute_result"
    }
   ],
   "source": [
    "# Concat two strings with uncommon characters\n",
    "str1 = 'aacdb'\n",
    "str2 = 'gafd'\n",
    "    \n",
    "s1 = set(str1)\n",
    "s2 = set(str2)\n",
    "common = list(s1 & s2)\n",
    "\n",
    "new_l = [i for i in s1 if i not in common] + [j for j in s2 if j not in common]\n",
    "''.join(new_l)"
   ]
  },
  {
   "cell_type": "code",
   "execution_count": 116,
   "metadata": {},
   "outputs": [
    {
     "data": {
      "text/plain": [
       "['geeg', 'keek', 'aa']"
      ]
     },
     "execution_count": 116,
     "metadata": {},
     "output_type": "execute_result"
    }
   ],
   "source": [
    "# Given list of strings find all palindromes\n",
    "my_list = [\"geeks\", \"geeg\", \"keek\", \"practice\", \"aa\"]\n",
    "\n",
    "list(filter(lambda x: (x == ''.join(reversed(x))), my_list))"
   ]
  },
  {
   "cell_type": "code",
   "execution_count": 126,
   "metadata": {},
   "outputs": [],
   "source": [
    "# Check for k consecutive 1 s in a binary number\n",
    "\n",
    "def check1(str1, k):\n",
    "    s = 0\n",
    "    for i in range(0, len(str1)):\n",
    "        if(str1[i] == '1'):\n",
    "            s += 1\n",
    "            if(s == k):\n",
    "                return(True)\n",
    "        else:\n",
    "            s = 0\n",
    "    if(s == k):\n",
    "        return(True)\n",
    "    else:\n",
    "        return(False)"
   ]
  },
  {
   "cell_type": "code",
   "execution_count": 127,
   "metadata": {},
   "outputs": [
    {
     "data": {
      "text/plain": [
       "True"
      ]
     },
     "execution_count": 127,
     "metadata": {},
     "output_type": "execute_result"
    }
   ],
   "source": [
    "check1(\"10101001111\",4)"
   ]
  },
  {
   "cell_type": "code",
   "execution_count": 129,
   "metadata": {},
   "outputs": [
    {
     "name": "stdout",
     "output_type": "stream",
     "text": [
      "True\n"
     ]
    }
   ],
   "source": [
    "# Simple approach\n",
    "k = 4\n",
    "str1 = \"10101001111\"\n",
    "new = '1' * k\n",
    "if(new in str1):\n",
    "    print(True)\n",
    "else:\n",
    "    print(False)"
   ]
  },
  {
   "cell_type": "code",
   "execution_count": 131,
   "metadata": {},
   "outputs": [
    {
     "name": "stdout",
     "output_type": "stream",
     "text": [
      "8\n"
     ]
    }
   ],
   "source": [
    "# String operations\n",
    "str1 = \"geeksforgeeks is for geeks\"\n",
    "str2 = \"geeks\"\n",
    "\n",
    "print(str1.find(str2, 4))"
   ]
  },
  {
   "cell_type": "code",
   "execution_count": 132,
   "metadata": {},
   "outputs": [
    {
     "data": {
      "text/plain": [
       "21"
      ]
     },
     "execution_count": 132,
     "metadata": {},
     "output_type": "execute_result"
    }
   ],
   "source": [
    "str1.rfind(str2)"
   ]
  },
  {
   "cell_type": "code",
   "execution_count": 133,
   "metadata": {},
   "outputs": [
    {
     "data": {
      "text/plain": [
       "False"
      ]
     },
     "execution_count": 133,
     "metadata": {},
     "output_type": "execute_result"
    }
   ],
   "source": [
    "str1.startswith('for')"
   ]
  },
  {
   "cell_type": "code",
   "execution_count": 134,
   "metadata": {},
   "outputs": [
    {
     "data": {
      "text/plain": [
       "True"
      ]
     },
     "execution_count": 134,
     "metadata": {},
     "output_type": "execute_result"
    }
   ],
   "source": [
    "str1.endswith('geeks')"
   ]
  },
  {
   "cell_type": "code",
   "execution_count": 135,
   "metadata": {},
   "outputs": [
    {
     "data": {
      "text/plain": [
       "'GEEKSFORGEEKS IS FOR GEEKS'"
      ]
     },
     "execution_count": 135,
     "metadata": {},
     "output_type": "execute_result"
    }
   ],
   "source": [
    "str1.upper()"
   ]
  },
  {
   "cell_type": "code",
   "execution_count": 136,
   "metadata": {},
   "outputs": [
    {
     "data": {
      "text/plain": [
       "'geeksforgeeks is for geeks'"
      ]
     },
     "execution_count": 136,
     "metadata": {},
     "output_type": "execute_result"
    }
   ],
   "source": [
    "str1.lower()"
   ]
  },
  {
   "cell_type": "code",
   "execution_count": 137,
   "metadata": {},
   "outputs": [
    {
     "data": {
      "text/plain": [
       "False"
      ]
     },
     "execution_count": 137,
     "metadata": {},
     "output_type": "execute_result"
    }
   ],
   "source": [
    "str1.isupper()"
   ]
  },
  {
   "cell_type": "code",
   "execution_count": 138,
   "metadata": {},
   "outputs": [
    {
     "data": {
      "text/plain": [
       "True"
      ]
     },
     "execution_count": 138,
     "metadata": {},
     "output_type": "execute_result"
    }
   ],
   "source": [
    "str1.islower()"
   ]
  },
  {
   "cell_type": "code",
   "execution_count": 139,
   "metadata": {},
   "outputs": [
    {
     "data": {
      "text/plain": [
       "False"
      ]
     },
     "execution_count": 139,
     "metadata": {},
     "output_type": "execute_result"
    }
   ],
   "source": [
    "str1.isdigit()"
   ]
  },
  {
   "cell_type": "code",
   "execution_count": 140,
   "metadata": {},
   "outputs": [
    {
     "data": {
      "text/plain": [
       "False"
      ]
     },
     "execution_count": 140,
     "metadata": {},
     "output_type": "execute_result"
    }
   ],
   "source": [
    "str1.isalpha()"
   ]
  },
  {
   "cell_type": "code",
   "execution_count": 141,
   "metadata": {},
   "outputs": [
    {
     "data": {
      "text/plain": [
       "'GEEKSFORGEEKS IS FOR GEEKS'"
      ]
     },
     "execution_count": 141,
     "metadata": {},
     "output_type": "execute_result"
    }
   ],
   "source": [
    "str1.swapcase()"
   ]
  },
  {
   "cell_type": "code",
   "execution_count": 142,
   "metadata": {},
   "outputs": [
    {
     "data": {
      "text/plain": [
       "'Geeksforgeeks Is For Geeks'"
      ]
     },
     "execution_count": 142,
     "metadata": {},
     "output_type": "execute_result"
    }
   ],
   "source": [
    "str1.title()"
   ]
  },
  {
   "cell_type": "code",
   "execution_count": 146,
   "metadata": {},
   "outputs": [
    {
     "data": {
      "text/plain": [
       "'-------geeks--------'"
      ]
     },
     "execution_count": 146,
     "metadata": {},
     "output_type": "execute_result"
    }
   ],
   "source": [
    "str1 = 'geeks'\n",
    "str1.center(20,'-')"
   ]
  },
  {
   "cell_type": "code",
   "execution_count": 147,
   "metadata": {},
   "outputs": [
    {
     "data": {
      "text/plain": [
       "'geeks---------------'"
      ]
     },
     "execution_count": 147,
     "metadata": {},
     "output_type": "execute_result"
    }
   ],
   "source": [
    "str1.ljust(20, '-')"
   ]
  },
  {
   "cell_type": "code",
   "execution_count": 148,
   "metadata": {},
   "outputs": [
    {
     "data": {
      "text/plain": [
       "'---------------geeks'"
      ]
     },
     "execution_count": 148,
     "metadata": {},
     "output_type": "execute_result"
    }
   ],
   "source": [
    "str1.rjust(20, '-')"
   ]
  },
  {
   "cell_type": "code",
   "execution_count": 149,
   "metadata": {},
   "outputs": [
    {
     "data": {
      "text/plain": [
       "True"
      ]
     },
     "execution_count": 149,
     "metadata": {},
     "output_type": "execute_result"
    }
   ],
   "source": [
    "str1.isalnum()"
   ]
  },
  {
   "cell_type": "code",
   "execution_count": 150,
   "metadata": {},
   "outputs": [
    {
     "data": {
      "text/plain": [
       "False"
      ]
     },
     "execution_count": 150,
     "metadata": {},
     "output_type": "execute_result"
    }
   ],
   "source": [
    "str1.isspace()"
   ]
  },
  {
   "cell_type": "code",
   "execution_count": 152,
   "metadata": {},
   "outputs": [
    {
     "data": {
      "text/plain": [
       "'32,456.22,55.'"
      ]
     },
     "execution_count": 152,
     "metadata": {},
     "output_type": "execute_result"
    }
   ],
   "source": [
    "# Replace commas and dots\n",
    "am = '32.456,22.55,'\n",
    "maketrans = am.maketrans\n",
    "am = am.translate(maketrans(',.', '.,'))\n",
    "am"
   ]
  },
  {
   "cell_type": "code",
   "execution_count": 157,
   "metadata": {},
   "outputs": [
    {
     "name": "stdout",
     "output_type": "stream",
     "text": [
      "['e', 'e', 'o', 'E', 'A', 'e']\n",
      "6\n"
     ]
    }
   ],
   "source": [
    "# Display and count vowels\n",
    "vow = 'aeiouAEIOU'\n",
    "string = \"Geeks for GEAeks\"\n",
    "li = [i for i in string if i in vow]\n",
    "print(li)\n",
    "print(len(li))"
   ]
  },
  {
   "cell_type": "code",
   "execution_count": 161,
   "metadata": {},
   "outputs": [
    {
     "name": "stdout",
     "output_type": "stream",
     "text": [
      "invalid\n"
     ]
    }
   ],
   "source": [
    "# Check for a valid password\n",
    "import re\n",
    "\n",
    "pass1 = \"R@m@_f0rtu9e$\"\n",
    "\n",
    "flag = 0\n",
    "\n",
    "while True:\n",
    "    if(len(pass1) < 8):\n",
    "        flag = -1\n",
    "        break\n",
    "    elif not re.search(\"[a-z]\", pass1):\n",
    "        flag = -1\n",
    "        break\n",
    "    elif not re.search(\"[A-Z]\", pass1):\n",
    "        flag = -1\n",
    "        break\n",
    "    elif not re.search('[0-9]', pass1):\n",
    "        flag = -1\n",
    "        break\n",
    "    elif not re.search('[@_$]', pass1):\n",
    "        flag = -1\n",
    "        break\n",
    "    elif not re.search('\\s', pass1):\n",
    "        flag = -1\n",
    "        break\n",
    "    else:\n",
    "        flag = 0\n",
    "        print(\"password is valid\")\n",
    "\n",
    "if(flag == -1):\n",
    "    print(\"invalid\")"
   ]
  },
  {
   "cell_type": "code",
   "execution_count": 164,
   "metadata": {},
   "outputs": [
    {
     "name": "stdout",
     "output_type": "stream",
     "text": [
      "NO\n"
     ]
    }
   ],
   "source": [
    "# Find if string is present in another\n",
    "str1 = 'geeks for geeks'\n",
    "str2 = 'hello'\n",
    "\n",
    "if(str1.find(str2) == -1):\n",
    "    print(\"NO\")\n",
    "else:\n",
    "    print(\"YES\")"
   ]
  },
  {
   "cell_type": "code",
   "execution_count": 166,
   "metadata": {},
   "outputs": [
    {
     "name": "stdout",
     "output_type": "stream",
     "text": [
      "no\n"
     ]
    }
   ],
   "source": [
    "# check if strings are anagram\n",
    "s1 = \"cinema\"\n",
    "s2 = 'packman'\n",
    "\n",
    "if(sorted(s1) == sorted(s2)):\n",
    "    print(\"yes\")\n",
    "else:\n",
    "    print(\"no\")"
   ]
  },
  {
   "cell_type": "code",
   "execution_count": 171,
   "metadata": {},
   "outputs": [],
   "source": [
    "# Find if given string can be formed by concatenating string elements\n",
    "from itertools import permutations\n",
    "lst = ['co', 'de', 'py', 'ks', 'on']\n",
    "str1 = 'python'\n",
    "for i in range(1, len(lst) + 1):\n",
    "    for per in permutations(lst,i):\n",
    "        if(''.join(per) == str1):\n",
    "            print(True)\n"
   ]
  }
 ],
 "metadata": {
  "kernelspec": {
   "display_name": "Python 3",
   "language": "python",
   "name": "python3"
  },
  "language_info": {
   "codemirror_mode": {
    "name": "ipython",
    "version": 3
   },
   "file_extension": ".py",
   "mimetype": "text/x-python",
   "name": "python",
   "nbconvert_exporter": "python",
   "pygments_lexer": "ipython3",
   "version": "3.6.8"
  }
 },
 "nbformat": 4,
 "nbformat_minor": 2
}
