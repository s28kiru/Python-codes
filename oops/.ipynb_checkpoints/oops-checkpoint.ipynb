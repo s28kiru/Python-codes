{
 "cells": [
  {
   "cell_type": "markdown",
   "metadata": {},
   "source": [
    "# Fundamentals of python"
   ]
  },
  {
   "cell_type": "markdown",
   "metadata": {},
   "source": [
    "## Variables and expressions\n",
    "\n",
    "* Variables are labels attached to objects, they are not objects themselves\n",
    "* It acts as the pointer or reference to an object"
   ]
  },
  {
   "cell_type": "code",
   "execution_count": 2,
   "metadata": {},
   "outputs": [],
   "source": [
    "a = [5,7,8]\n",
    "b = a\n",
    "a.append(2)"
   ]
  },
  {
   "cell_type": "code",
   "execution_count": 3,
   "metadata": {},
   "outputs": [
    {
     "data": {
      "text/plain": [
       "[5, 7, 8, 2]"
      ]
     },
     "execution_count": 3,
     "metadata": {},
     "output_type": "execute_result"
    }
   ],
   "source": [
    "b"
   ]
  },
  {
   "cell_type": "markdown",
   "metadata": {},
   "source": [
    "* Change in one list is affected in another since one is referenced by another\n",
    "* Python is dynamic - no need to specify datatype and values can be specified during execution\n",
    "* Scope - global and local \n",
    "* flow control - if else, loops"
   ]
  },
  {
   "cell_type": "markdown",
   "metadata": {},
   "source": [
    "## Data types\n",
    "\n",
    "* numeric types - `int`, `float`, `complex`, `bool`\n",
    "* sequence types - `str`, `list`, `tuple`, `range`\n",
    "* mapping type - `dict`\n",
    "* 2 set types - `set`"
   ]
  },
  {
   "cell_type": "markdown",
   "metadata": {},
   "source": [
    "* everything in python is a `object`\n",
    "* Each object has `type`, `value` and `identity` (pointer - location in memory)\n",
    "* objects can be mutable (contains insert(), append() methods) and immutable"
   ]
  },
  {
   "cell_type": "markdown",
   "metadata": {},
   "source": [
    "### Strings\n",
    "\n",
    "* immutable\n"
   ]
  },
  {
   "cell_type": "markdown",
   "metadata": {},
   "source": [
    "#### Methods\n",
    "\n",
    "* `s.count(substring, [start,end])` - Counts the occurrences of a substring with optional start and end parameters\n",
    "* `s.expandtabs([tabsize])` - Replaces tabs with spaces\n",
    "* `s.find(substring, [start, end])` - Returns the index of the first occurrence of a substring or returns -1 if the substring is not found\n",
    "* `s.isalnum()` - Returns True if all characters are alphanumeric, returns False otherwise\n",
    "* `s.isalpha()` - Returns True if all characters are alphabetic, returns False otherwise\n",
    "* `s.isdigit()` - Returns True if all characters are digits, returns False otherwise\n",
    "* `s.join(t)` - Joins the strings in sequence t\n",
    "* `s.lower()` - Converts the string to all lowercase\n",
    "* `s.replace(old, new [maxreplace])` - Replaces old substring with new substring\n",
    "* `s.strip([characters])` - Removes whitespace or optional characters\n",
    "* `s.split([separator], [maxsplit])` - Splits a string separated by whitespace or an optional separator. Returns a list"
   ]
  },
  {
   "cell_type": "markdown",
   "metadata": {},
   "source": [
    "## Lists\n",
    "\n",
    "* mutable - can contain elements of any data type\n"
   ]
  },
  {
   "cell_type": "markdown",
   "metadata": {},
   "source": [
    "#### Methods\n",
    "\n",
    "* `list(s)` - Returns a list of the sequence s\n",
    "* `s.append(x)` - Appends element x to the end of s\n",
    "* `s.extend(x)` - Appends the list x to s\n",
    "* `s.count(x)` - Counts the occurrence of x in s\n",
    "* `s.index(x, [start], [stop])` - Returns the smallest index, i, where s[i] ==x. Can include optional start and stop index for the search\n",
    "* `s.insert(i,e)` - Inserts x at index i\n",
    "* `s.pop(i)` - Returns the element i and removes it from the list\n",
    "* `s.remove(x)` - Removes x from s\n",
    "* `s.reverse()` - Reverses the order of s\n",
    "* `s.sort(key ,[reverse])` - Sorts s with optional key and reverse"
   ]
  },
  {
   "cell_type": "code",
   "execution_count": 4,
   "metadata": {},
   "outputs": [
    {
     "data": {
      "text/plain": [
       "[8, 12, 14]"
      ]
     },
     "execution_count": 4,
     "metadata": {},
     "output_type": "execute_result"
    }
   ],
   "source": [
    "# list comprehensions\n",
    "\n",
    "a = [4,6,7]\n",
    "\n",
    "[i*2 for i in a]"
   ]
  },
  {
   "cell_type": "code",
   "execution_count": 5,
   "metadata": {},
   "outputs": [
    {
     "data": {
      "text/plain": [
       "[['Here', 4], ['is', 2], ['a', 1], ['sentence', 8]]"
      ]
     },
     "execution_count": 5,
     "metadata": {},
     "output_type": "execute_result"
    }
   ],
   "source": [
    "# string split\n",
    "words = \"Here is a sentence\".split()\n",
    "[[word, len(word)] for word in words]"
   ]
  },
  {
   "cell_type": "markdown",
   "metadata": {},
   "source": [
    "## First class objects"
   ]
  },
  {
   "cell_type": "markdown",
   "metadata": {},
   "source": [
    "* functions and classes are called as first class objects\n",
    "\n",
    "* First class objects:\n",
    "    * Created at runtime\n",
    "    * Assigned as a variable or in a data structure\n",
    "    * Passed as an argument to a function\n",
    "    * Returned as the result of a function\n",
    "\n",
    "* Functions that take other functions as inputs are called higher order functions"
   ]
  },
  {
   "cell_type": "markdown",
   "metadata": {},
   "source": [
    "#### Other functions\n",
    "\n",
    "* map -  Transform each item in list into an iterable object\n",
    "* lambda - anonymous function\n",
    "* filter"
   ]
  },
  {
   "cell_type": "code",
   "execution_count": 7,
   "metadata": {},
   "outputs": [
    {
     "data": {
      "text/plain": [
       "[1, 8, 27, 64]"
      ]
     },
     "execution_count": 7,
     "metadata": {},
     "output_type": "execute_result"
    }
   ],
   "source": [
    "lst = [1,2,3,4]\n",
    "\n",
    "[i**3 for i in lst]"
   ]
  },
  {
   "cell_type": "code",
   "execution_count": 11,
   "metadata": {},
   "outputs": [
    {
     "data": {
      "text/plain": [
       "[1, 8, 27, 64]"
      ]
     },
     "execution_count": 11,
     "metadata": {},
     "output_type": "execute_result"
    }
   ],
   "source": [
    "# map and lambda\n",
    "list(map(lambda x: x**3, lst))"
   ]
  },
  {
   "cell_type": "code",
   "execution_count": 13,
   "metadata": {},
   "outputs": [
    {
     "data": {
      "text/plain": [
       "[1, 2]"
      ]
     },
     "execution_count": 13,
     "metadata": {},
     "output_type": "execute_result"
    }
   ],
   "source": [
    "# filter and lambda\n",
    "list(filter(lambda x: x <3, lst))"
   ]
  },
  {
   "cell_type": "code",
   "execution_count": 14,
   "metadata": {},
   "outputs": [
    {
     "data": {
      "text/plain": [
       "['in', 'The', 'word', 'longest', 'sentence']"
      ]
     },
     "execution_count": 14,
     "metadata": {},
     "output_type": "execute_result"
    }
   ],
   "source": [
    "words = str.split(\"The longest word in sentence\")\n",
    "\n",
    "sorted(words, key = len)"
   ]
  },
  {
   "cell_type": "code",
   "execution_count": 21,
   "metadata": {},
   "outputs": [
    {
     "name": "stdout",
     "output_type": "stream",
     "text": [
      "[1, 3, 4, 7, 9]\n"
     ]
    }
   ],
   "source": [
    "l = [7, 3, 4, 9, 1]\n",
    "l.sort()\n",
    "print(l)"
   ]
  },
  {
   "cell_type": "code",
   "execution_count": 23,
   "metadata": {},
   "outputs": [
    {
     "name": "stdout",
     "output_type": "stream",
     "text": [
      "[['flour', 1.9, 5], ['rice', 2.4, 8], ['corn', 4.7, 6]]\n"
     ]
    }
   ],
   "source": [
    "items = [['rice', 2.4, 8], ['corn', 4.7, 6], ['flour', 1.9, 5]]\n",
    "items.sort(key = lambda x: x[1])\n",
    "print(items)"
   ]
  }
 ],
 "metadata": {
  "kernelspec": {
   "display_name": "Python 3",
   "language": "python",
   "name": "python3"
  },
  "language_info": {
   "codemirror_mode": {
    "name": "ipython",
    "version": 3
   },
   "file_extension": ".py",
   "mimetype": "text/x-python",
   "name": "python",
   "nbconvert_exporter": "python",
   "pygments_lexer": "ipython3",
   "version": "3.6.8"
  }
 },
 "nbformat": 4,
 "nbformat_minor": 2
}
